{
  "nbformat": 4,
  "nbformat_minor": 0,
  "metadata": {
    "colab": {
      "provenance": [],
      "include_colab_link": true
    },
    "kernelspec": {
      "name": "python3",
      "display_name": "Python 3"
    },
    "language_info": {
      "name": "python"
    }
  },
  "cells": [
    {
      "cell_type": "markdown",
      "metadata": {
        "id": "view-in-github",
        "colab_type": "text"
      },
      "source": [
        "<a href=\"https://colab.research.google.com/github/kamrulhasan04947/cancer_detection_votingClassifeir/blob/main/NLP.ipynb\" target=\"_parent\"><img src=\"https://colab.research.google.com/assets/colab-badge.svg\" alt=\"Open In Colab\"/></a>"
      ]
    },
    {
      "cell_type": "code",
      "execution_count": null,
      "metadata": {
        "id": "6P1OffLoUxyo"
      },
      "outputs": [],
      "source": [
        "import re\n",
        "import nltk"
      ]
    },
    {
      "cell_type": "code",
      "source": [
        "import string"
      ],
      "metadata": {
        "id": "qAO3Eo4iVhOX"
      },
      "execution_count": null,
      "outputs": []
    },
    {
      "cell_type": "code",
      "source": [
        "def text_low(text):\n",
        "  return text.lower()\n",
        "\n",
        "str_first = ' HI. I AM ROWNAK'\n",
        "text_low(str_first)"
      ],
      "metadata": {
        "colab": {
          "base_uri": "https://localhost:8080/",
          "height": 36
        },
        "id": "0XfwT4iqVm6a",
        "outputId": "d54f1362-c1fe-4cbe-82a8-042838b1a727"
      },
      "execution_count": null,
      "outputs": [
        {
          "output_type": "execute_result",
          "data": {
            "text/plain": [
              "' hi. i am rownak'"
            ],
            "application/vnd.google.colaboratory.intrinsic+json": {
              "type": "string"
            }
          },
          "metadata": {},
          "execution_count": 3
        }
      ]
    },
    {
      "cell_type": "code",
      "source": [
        "def remove(text):\n",
        "  res = re.sub(r'\\d+','',text)\n",
        "  return res\n",
        "\n",
        "str_sec = ' Theere are 3 number'\n",
        "\n",
        "re.search('\\aTheere' , str_sec)\n",
        "\n",
        "remove(str_sec)\n",
        "\n"
      ],
      "metadata": {
        "colab": {
          "base_uri": "https://localhost:8080/",
          "height": 36
        },
        "id": "-yORxzl9WKzy",
        "outputId": "c659783f-e207-4a99-9262-d2de65e7e08a"
      },
      "execution_count": null,
      "outputs": [
        {
          "output_type": "execute_result",
          "data": {
            "text/plain": [
              "' Theere are  number'"
            ],
            "application/vnd.google.colaboratory.intrinsic+json": {
              "type": "string"
            }
          },
          "metadata": {},
          "execution_count": 4
        }
      ]
    },
    {
      "cell_type": "code",
      "source": [
        "nltk.download('stopwords')"
      ],
      "metadata": {
        "colab": {
          "base_uri": "https://localhost:8080/"
        },
        "id": "ceUb020bZiwE",
        "outputId": "6f982d10-ac54-4016-bd61-6356b8285ec9"
      },
      "execution_count": null,
      "outputs": [
        {
          "output_type": "stream",
          "name": "stderr",
          "text": [
            "[nltk_data] Downloading package stopwords to /root/nltk_data...\n",
            "[nltk_data]   Unzipping corpora/stopwords.zip.\n"
          ]
        },
        {
          "output_type": "execute_result",
          "data": {
            "text/plain": [
              "True"
            ]
          },
          "metadata": {},
          "execution_count": 3
        }
      ]
    },
    {
      "cell_type": "code",
      "source": [
        "nltk.download('punkt')"
      ],
      "metadata": {
        "colab": {
          "base_uri": "https://localhost:8080/"
        },
        "id": "Liq17EshZn-T",
        "outputId": "f83d4b29-e780-43cb-c593-cf709e15065a"
      },
      "execution_count": null,
      "outputs": [
        {
          "output_type": "stream",
          "name": "stderr",
          "text": [
            "[nltk_data] Downloading package punkt to /root/nltk_data...\n",
            "[nltk_data]   Unzipping tokenizers/punkt.zip.\n"
          ]
        },
        {
          "output_type": "execute_result",
          "data": {
            "text/plain": [
              "True"
            ]
          },
          "metadata": {},
          "execution_count": 4
        }
      ]
    },
    {
      "cell_type": "code",
      "source": [
        "from nltk.corpus import stopwords\n",
        "from nltk.tokenize import word_tokenize\n",
        "\n",
        "def Stopwords_learn(text):\n",
        "  stop_words = set(stopwords.words('english'))\n",
        "  wordpuc_remove =\n",
        "  word_tokens = word_tokenize(text)\n",
        "  filtered = [word for word in word_tokens if word not in stop_words]\n",
        "  return ' '.join(filtered)\n",
        "d\n",
        "text_1 = \" Due to less percentage of attendence we can't move quick towards our goal. So be present from the next class otherwise you will miss the advance topic.\"\n",
        "\n",
        "Stopwords_learn(text_1)"
      ],
      "metadata": {
        "colab": {
          "base_uri": "https://localhost:8080/",
          "height": 36
        },
        "id": "NeMPKPVWYkIc",
        "outputId": "dbd51111-117a-4e42-90a2-c6f76ef0e09b"
      },
      "execution_count": null,
      "outputs": [
        {
          "output_type": "execute_result",
          "data": {
            "text/plain": [
              "\"Due less percentage attendence ca n't move quick towards goal . So present next class otherwise miss advance topic .\""
            ],
            "application/vnd.google.colaboratory.intrinsic+json": {
              "type": "string"
            }
          },
          "metadata": {},
          "execution_count": 138
        }
      ]
    },
    {
      "cell_type": "code",
      "source": [
        "from nltk.stem.porter import PorterStemmer\n",
        "\n",
        "from nltk.tokenize import word_tokenize\n",
        "\n",
        "stemmer = PorterStemmer()\n",
        "\n",
        "def Step_words_porterStemer(text):\n",
        "\n",
        "  word_tokens = word_tokenize(text)\n",
        "  filtered = [stemmer.stem(word) for word in word_tokens]\n",
        "  return filtered\n",
        "\n",
        "text_1 = \"Due to less percentages of attendence we can't move quick towards our goal. So be present from the next class otherwise you will miss the advance topic.\"\n",
        "\n",
        "Step_words_porterStemer(text_1)"
      ],
      "metadata": {
        "colab": {
          "base_uri": "https://localhost:8080/"
        },
        "id": "B9L5vkfncY9a",
        "outputId": "5d5ff201-81f4-42d8-b7d6-cd769500079b"
      },
      "execution_count": null,
      "outputs": [
        {
          "output_type": "execute_result",
          "data": {
            "text/plain": [
              "['due',\n",
              " 'to',\n",
              " 'less',\n",
              " 'percentag',\n",
              " 'of',\n",
              " 'attend',\n",
              " 'we',\n",
              " 'ca',\n",
              " \"n't\",\n",
              " 'move',\n",
              " 'quick',\n",
              " 'toward',\n",
              " 'our',\n",
              " 'goal',\n",
              " '.',\n",
              " 'so',\n",
              " 'be',\n",
              " 'present',\n",
              " 'from',\n",
              " 'the',\n",
              " 'next',\n",
              " 'class',\n",
              " 'otherwis',\n",
              " 'you',\n",
              " 'will',\n",
              " 'miss',\n",
              " 'the',\n",
              " 'advanc',\n",
              " 'topic',\n",
              " '.']"
            ]
          },
          "metadata": {},
          "execution_count": 9
        }
      ]
    },
    {
      "cell_type": "code",
      "source": [
        "nltk.download('wordnet')"
      ],
      "metadata": {
        "colab": {
          "base_uri": "https://localhost:8080/"
        },
        "id": "pmRiR504h2Xj",
        "outputId": "db395a21-27e5-4845-a4db-c116f702225a"
      },
      "execution_count": null,
      "outputs": [
        {
          "output_type": "stream",
          "name": "stderr",
          "text": [
            "[nltk_data] Downloading package wordnet to /root/nltk_data...\n"
          ]
        },
        {
          "output_type": "execute_result",
          "data": {
            "text/plain": [
              "True"
            ]
          },
          "metadata": {},
          "execution_count": 10
        }
      ]
    },
    {
      "cell_type": "code",
      "source": [
        "from nltk.stem import WordNetLemmatizer\n",
        "\n",
        "from nltk.tokenize import word_tokenize\n",
        "\n",
        "stemmer = WordNetLemmatizer()\n",
        "\n",
        "def Step_words_l(text):\n",
        "\n",
        "  word_tokens = word_tokenize(text)\n",
        "  filtered = [stemmer.lemmatize(word) for word in word_tokens]\n",
        "  return filtered\n",
        "\n",
        "text_1 = \" Due to less percentages of attendence we can't move quick towards our goal. So be present from the next class otherwise you will miss the advance topic.\"\n",
        "\n",
        "Step_words_l(text_1)"
      ],
      "metadata": {
        "colab": {
          "base_uri": "https://localhost:8080/"
        },
        "id": "Y-6-RkbDhb41",
        "outputId": "e59b467a-292b-475b-c2eb-f36ca0df32c9"
      },
      "execution_count": null,
      "outputs": [
        {
          "output_type": "execute_result",
          "data": {
            "text/plain": [
              "['Due',\n",
              " 'to',\n",
              " 'le',\n",
              " 'percentage',\n",
              " 'of',\n",
              " 'attendence',\n",
              " 'we',\n",
              " 'ca',\n",
              " \"n't\",\n",
              " 'move',\n",
              " 'quick',\n",
              " 'towards',\n",
              " 'our',\n",
              " 'goal',\n",
              " '.',\n",
              " 'So',\n",
              " 'be',\n",
              " 'present',\n",
              " 'from',\n",
              " 'the',\n",
              " 'next',\n",
              " 'class',\n",
              " 'otherwise',\n",
              " 'you',\n",
              " 'will',\n",
              " 'miss',\n",
              " 'the',\n",
              " 'advance',\n",
              " 'topic',\n",
              " '.']"
            ]
          },
          "metadata": {},
          "execution_count": 78
        }
      ]
    },
    {
      "cell_type": "code",
      "source": [
        "nltk.download('averaged_perceptron_tagger')"
      ],
      "metadata": {
        "colab": {
          "base_uri": "https://localhost:8080/"
        },
        "id": "TNSn_c_1Zqy-",
        "outputId": "03482046-a875-4e58-d879-fc6692c3eaf3"
      },
      "execution_count": null,
      "outputs": [
        {
          "output_type": "stream",
          "name": "stderr",
          "text": [
            "[nltk_data] Downloading package averaged_perceptron_tagger to\n",
            "[nltk_data]     /root/nltk_data...\n",
            "[nltk_data]   Unzipping taggers/averaged_perceptron_tagger.zip.\n"
          ]
        },
        {
          "output_type": "execute_result",
          "data": {
            "text/plain": [
              "True"
            ]
          },
          "metadata": {},
          "execution_count": 12
        }
      ]
    },
    {
      "cell_type": "code",
      "source": [
        "from nltk.tokenize import word_tokenize\n",
        "\n",
        "from nltk import pos_tag\n",
        "\n",
        "def pos_tagging(text):\n",
        "  word_tokens = word_tokenize(text)\n",
        "  return pos_tag(word_tokens)\n",
        "\n",
        "text_1 = \" Due to less percentages of attendence we can't move quick towards our goal. So be present from the next class otherwise you will miss the advance topic.\"\n",
        "\n",
        "pos_tagging(text_1)\n"
      ],
      "metadata": {
        "id": "1BbCtRinj0Y5",
        "outputId": "5cdb7483-8d4a-4f95-fdf0-1bfe31495f78",
        "colab": {
          "base_uri": "https://localhost:8080/"
        }
      },
      "execution_count": null,
      "outputs": [
        {
          "output_type": "execute_result",
          "data": {
            "text/plain": [
              "[('Due', 'JJ'),\n",
              " ('to', 'TO'),\n",
              " ('less', 'JJR'),\n",
              " ('percentages', 'NNS'),\n",
              " ('of', 'IN'),\n",
              " ('attendence', 'NN'),\n",
              " ('we', 'PRP'),\n",
              " ('ca', 'MD'),\n",
              " (\"n't\", 'RB'),\n",
              " ('move', 'VB'),\n",
              " ('quick', 'JJ'),\n",
              " ('towards', 'NNS'),\n",
              " ('our', 'PRP$'),\n",
              " ('goal', 'NN'),\n",
              " ('.', '.'),\n",
              " ('So', 'RB'),\n",
              " ('be', 'VB'),\n",
              " ('present', 'JJ'),\n",
              " ('from', 'IN'),\n",
              " ('the', 'DT'),\n",
              " ('next', 'JJ'),\n",
              " ('class', 'NN'),\n",
              " ('otherwise', 'NN'),\n",
              " ('you', 'PRP'),\n",
              " ('will', 'MD'),\n",
              " ('miss', 'VB'),\n",
              " ('the', 'DT'),\n",
              " ('advance', 'NN'),\n",
              " ('topic', 'NN'),\n",
              " ('.', '.')]"
            ]
          },
          "metadata": {},
          "execution_count": 13
        }
      ]
    },
    {
      "cell_type": "code",
      "source": [],
      "metadata": {
        "id": "A3xNRtDQ9Wlk"
      },
      "execution_count": null,
      "outputs": []
    },
    {
      "cell_type": "code",
      "source": [
        "from google.colab import drive\n",
        "drive.mount('/content/drive')"
      ],
      "metadata": {
        "colab": {
          "base_uri": "https://localhost:8080/"
        },
        "id": "ph3ZNHPYjhU4",
        "outputId": "645ddcac-d49a-49a6-b180-fb9517818957"
      },
      "execution_count": null,
      "outputs": [
        {
          "output_type": "stream",
          "name": "stdout",
          "text": [
            "Mounted at /content/drive\n"
          ]
        }
      ]
    },
    {
      "cell_type": "code",
      "source": [
        "import numpy as np\n",
        "import pandas as pd"
      ],
      "metadata": {
        "id": "gfkWL5WCZ7Gi"
      },
      "execution_count": null,
      "outputs": []
    },
    {
      "cell_type": "code",
      "source": [
        "df = pd.read_csv(\"/content/drive/MyDrive/Data sets/Tweets.csv\")\n",
        "df.head()"
      ],
      "metadata": {
        "colab": {
          "base_uri": "https://localhost:8080/",
          "height": 495
        },
        "id": "3h8Ugxl8Zs-F",
        "outputId": "0a7fde2c-d019-425a-d748-ae47734a59cd"
      },
      "execution_count": null,
      "outputs": [
        {
          "output_type": "execute_result",
          "data": {
            "text/plain": [
              "             tweet_id airline_sentiment  airline_sentiment_confidence  \\\n",
              "0  570306133677760513           neutral                        1.0000   \n",
              "1  570301130888122368          positive                        0.3486   \n",
              "2  570301083672813571           neutral                        0.6837   \n",
              "3  570301031407624196          negative                        1.0000   \n",
              "4  570300817074462722          negative                        1.0000   \n",
              "\n",
              "  negativereason  negativereason_confidence         airline  \\\n",
              "0            NaN                        NaN  Virgin America   \n",
              "1            NaN                     0.0000  Virgin America   \n",
              "2            NaN                        NaN  Virgin America   \n",
              "3     Bad Flight                     0.7033  Virgin America   \n",
              "4     Can't Tell                     1.0000  Virgin America   \n",
              "\n",
              "  airline_sentiment_gold        name negativereason_gold  retweet_count  \\\n",
              "0                    NaN     cairdin                 NaN              0   \n",
              "1                    NaN    jnardino                 NaN              0   \n",
              "2                    NaN  yvonnalynn                 NaN              0   \n",
              "3                    NaN    jnardino                 NaN              0   \n",
              "4                    NaN    jnardino                 NaN              0   \n",
              "\n",
              "                                                text tweet_coord  \\\n",
              "0                @VirginAmerica What @dhepburn said.         NaN   \n",
              "1  @VirginAmerica plus you've added commercials t...         NaN   \n",
              "2  @VirginAmerica I didn't today... Must mean I n...         NaN   \n",
              "3  @VirginAmerica it's really aggressive to blast...         NaN   \n",
              "4  @VirginAmerica and it's a really big bad thing...         NaN   \n",
              "\n",
              "               tweet_created tweet_location               user_timezone  \n",
              "0  2015-02-24 11:35:52 -0800            NaN  Eastern Time (US & Canada)  \n",
              "1  2015-02-24 11:15:59 -0800            NaN  Pacific Time (US & Canada)  \n",
              "2  2015-02-24 11:15:48 -0800      Lets Play  Central Time (US & Canada)  \n",
              "3  2015-02-24 11:15:36 -0800            NaN  Pacific Time (US & Canada)  \n",
              "4  2015-02-24 11:14:45 -0800            NaN  Pacific Time (US & Canada)  "
            ],
            "text/html": [
              "\n",
              "\n",
              "  <div id=\"df-3733cea1-2c58-4f48-9179-1acc77d59d27\">\n",
              "    <div class=\"colab-df-container\">\n",
              "      <div>\n",
              "<style scoped>\n",
              "    .dataframe tbody tr th:only-of-type {\n",
              "        vertical-align: middle;\n",
              "    }\n",
              "\n",
              "    .dataframe tbody tr th {\n",
              "        vertical-align: top;\n",
              "    }\n",
              "\n",
              "    .dataframe thead th {\n",
              "        text-align: right;\n",
              "    }\n",
              "</style>\n",
              "<table border=\"1\" class=\"dataframe\">\n",
              "  <thead>\n",
              "    <tr style=\"text-align: right;\">\n",
              "      <th></th>\n",
              "      <th>tweet_id</th>\n",
              "      <th>airline_sentiment</th>\n",
              "      <th>airline_sentiment_confidence</th>\n",
              "      <th>negativereason</th>\n",
              "      <th>negativereason_confidence</th>\n",
              "      <th>airline</th>\n",
              "      <th>airline_sentiment_gold</th>\n",
              "      <th>name</th>\n",
              "      <th>negativereason_gold</th>\n",
              "      <th>retweet_count</th>\n",
              "      <th>text</th>\n",
              "      <th>tweet_coord</th>\n",
              "      <th>tweet_created</th>\n",
              "      <th>tweet_location</th>\n",
              "      <th>user_timezone</th>\n",
              "    </tr>\n",
              "  </thead>\n",
              "  <tbody>\n",
              "    <tr>\n",
              "      <th>0</th>\n",
              "      <td>570306133677760513</td>\n",
              "      <td>neutral</td>\n",
              "      <td>1.0000</td>\n",
              "      <td>NaN</td>\n",
              "      <td>NaN</td>\n",
              "      <td>Virgin America</td>\n",
              "      <td>NaN</td>\n",
              "      <td>cairdin</td>\n",
              "      <td>NaN</td>\n",
              "      <td>0</td>\n",
              "      <td>@VirginAmerica What @dhepburn said.</td>\n",
              "      <td>NaN</td>\n",
              "      <td>2015-02-24 11:35:52 -0800</td>\n",
              "      <td>NaN</td>\n",
              "      <td>Eastern Time (US &amp; Canada)</td>\n",
              "    </tr>\n",
              "    <tr>\n",
              "      <th>1</th>\n",
              "      <td>570301130888122368</td>\n",
              "      <td>positive</td>\n",
              "      <td>0.3486</td>\n",
              "      <td>NaN</td>\n",
              "      <td>0.0000</td>\n",
              "      <td>Virgin America</td>\n",
              "      <td>NaN</td>\n",
              "      <td>jnardino</td>\n",
              "      <td>NaN</td>\n",
              "      <td>0</td>\n",
              "      <td>@VirginAmerica plus you've added commercials t...</td>\n",
              "      <td>NaN</td>\n",
              "      <td>2015-02-24 11:15:59 -0800</td>\n",
              "      <td>NaN</td>\n",
              "      <td>Pacific Time (US &amp; Canada)</td>\n",
              "    </tr>\n",
              "    <tr>\n",
              "      <th>2</th>\n",
              "      <td>570301083672813571</td>\n",
              "      <td>neutral</td>\n",
              "      <td>0.6837</td>\n",
              "      <td>NaN</td>\n",
              "      <td>NaN</td>\n",
              "      <td>Virgin America</td>\n",
              "      <td>NaN</td>\n",
              "      <td>yvonnalynn</td>\n",
              "      <td>NaN</td>\n",
              "      <td>0</td>\n",
              "      <td>@VirginAmerica I didn't today... Must mean I n...</td>\n",
              "      <td>NaN</td>\n",
              "      <td>2015-02-24 11:15:48 -0800</td>\n",
              "      <td>Lets Play</td>\n",
              "      <td>Central Time (US &amp; Canada)</td>\n",
              "    </tr>\n",
              "    <tr>\n",
              "      <th>3</th>\n",
              "      <td>570301031407624196</td>\n",
              "      <td>negative</td>\n",
              "      <td>1.0000</td>\n",
              "      <td>Bad Flight</td>\n",
              "      <td>0.7033</td>\n",
              "      <td>Virgin America</td>\n",
              "      <td>NaN</td>\n",
              "      <td>jnardino</td>\n",
              "      <td>NaN</td>\n",
              "      <td>0</td>\n",
              "      <td>@VirginAmerica it's really aggressive to blast...</td>\n",
              "      <td>NaN</td>\n",
              "      <td>2015-02-24 11:15:36 -0800</td>\n",
              "      <td>NaN</td>\n",
              "      <td>Pacific Time (US &amp; Canada)</td>\n",
              "    </tr>\n",
              "    <tr>\n",
              "      <th>4</th>\n",
              "      <td>570300817074462722</td>\n",
              "      <td>negative</td>\n",
              "      <td>1.0000</td>\n",
              "      <td>Can't Tell</td>\n",
              "      <td>1.0000</td>\n",
              "      <td>Virgin America</td>\n",
              "      <td>NaN</td>\n",
              "      <td>jnardino</td>\n",
              "      <td>NaN</td>\n",
              "      <td>0</td>\n",
              "      <td>@VirginAmerica and it's a really big bad thing...</td>\n",
              "      <td>NaN</td>\n",
              "      <td>2015-02-24 11:14:45 -0800</td>\n",
              "      <td>NaN</td>\n",
              "      <td>Pacific Time (US &amp; Canada)</td>\n",
              "    </tr>\n",
              "  </tbody>\n",
              "</table>\n",
              "</div>\n",
              "      <button class=\"colab-df-convert\" onclick=\"convertToInteractive('df-3733cea1-2c58-4f48-9179-1acc77d59d27')\"\n",
              "              title=\"Convert this dataframe to an interactive table.\"\n",
              "              style=\"display:none;\">\n",
              "\n",
              "  <svg xmlns=\"http://www.w3.org/2000/svg\" height=\"24px\"viewBox=\"0 0 24 24\"\n",
              "       width=\"24px\">\n",
              "    <path d=\"M0 0h24v24H0V0z\" fill=\"none\"/>\n",
              "    <path d=\"M18.56 5.44l.94 2.06.94-2.06 2.06-.94-2.06-.94-.94-2.06-.94 2.06-2.06.94zm-11 1L8.5 8.5l.94-2.06 2.06-.94-2.06-.94L8.5 2.5l-.94 2.06-2.06.94zm10 10l.94 2.06.94-2.06 2.06-.94-2.06-.94-.94-2.06-.94 2.06-2.06.94z\"/><path d=\"M17.41 7.96l-1.37-1.37c-.4-.4-.92-.59-1.43-.59-.52 0-1.04.2-1.43.59L10.3 9.45l-7.72 7.72c-.78.78-.78 2.05 0 2.83L4 21.41c.39.39.9.59 1.41.59.51 0 1.02-.2 1.41-.59l7.78-7.78 2.81-2.81c.8-.78.8-2.07 0-2.86zM5.41 20L4 18.59l7.72-7.72 1.47 1.35L5.41 20z\"/>\n",
              "  </svg>\n",
              "      </button>\n",
              "\n",
              "\n",
              "\n",
              "    <div id=\"df-391ea2a0-9b79-42fd-b5bd-b8c1c76d829e\">\n",
              "      <button class=\"colab-df-quickchart\" onclick=\"quickchart('df-391ea2a0-9b79-42fd-b5bd-b8c1c76d829e')\"\n",
              "              title=\"Suggest charts.\"\n",
              "              style=\"display:none;\">\n",
              "\n",
              "<svg xmlns=\"http://www.w3.org/2000/svg\" height=\"24px\"viewBox=\"0 0 24 24\"\n",
              "     width=\"24px\">\n",
              "    <g>\n",
              "        <path d=\"M19 3H5c-1.1 0-2 .9-2 2v14c0 1.1.9 2 2 2h14c1.1 0 2-.9 2-2V5c0-1.1-.9-2-2-2zM9 17H7v-7h2v7zm4 0h-2V7h2v10zm4 0h-2v-4h2v4z\"/>\n",
              "    </g>\n",
              "</svg>\n",
              "      </button>\n",
              "    </div>\n",
              "\n",
              "<style>\n",
              "  .colab-df-quickchart {\n",
              "    background-color: #E8F0FE;\n",
              "    border: none;\n",
              "    border-radius: 50%;\n",
              "    cursor: pointer;\n",
              "    display: none;\n",
              "    fill: #1967D2;\n",
              "    height: 32px;\n",
              "    padding: 0 0 0 0;\n",
              "    width: 32px;\n",
              "  }\n",
              "\n",
              "  .colab-df-quickchart:hover {\n",
              "    background-color: #E2EBFA;\n",
              "    box-shadow: 0px 1px 2px rgba(60, 64, 67, 0.3), 0px 1px 3px 1px rgba(60, 64, 67, 0.15);\n",
              "    fill: #174EA6;\n",
              "  }\n",
              "\n",
              "  [theme=dark] .colab-df-quickchart {\n",
              "    background-color: #3B4455;\n",
              "    fill: #D2E3FC;\n",
              "  }\n",
              "\n",
              "  [theme=dark] .colab-df-quickchart:hover {\n",
              "    background-color: #434B5C;\n",
              "    box-shadow: 0px 1px 3px 1px rgba(0, 0, 0, 0.15);\n",
              "    filter: drop-shadow(0px 1px 2px rgba(0, 0, 0, 0.3));\n",
              "    fill: #FFFFFF;\n",
              "  }\n",
              "</style>\n",
              "\n",
              "    <script>\n",
              "      async function quickchart(key) {\n",
              "        const containerElement = document.querySelector('#' + key);\n",
              "        const charts = await google.colab.kernel.invokeFunction(\n",
              "            'suggestCharts', [key], {});\n",
              "      }\n",
              "    </script>\n",
              "\n",
              "      <script>\n",
              "\n",
              "function displayQuickchartButton(domScope) {\n",
              "  let quickchartButtonEl =\n",
              "    domScope.querySelector('#df-391ea2a0-9b79-42fd-b5bd-b8c1c76d829e button.colab-df-quickchart');\n",
              "  quickchartButtonEl.style.display =\n",
              "    google.colab.kernel.accessAllowed ? 'block' : 'none';\n",
              "}\n",
              "\n",
              "        displayQuickchartButton(document);\n",
              "      </script>\n",
              "      <style>\n",
              "    .colab-df-container {\n",
              "      display:flex;\n",
              "      flex-wrap:wrap;\n",
              "      gap: 12px;\n",
              "    }\n",
              "\n",
              "    .colab-df-convert {\n",
              "      background-color: #E8F0FE;\n",
              "      border: none;\n",
              "      border-radius: 50%;\n",
              "      cursor: pointer;\n",
              "      display: none;\n",
              "      fill: #1967D2;\n",
              "      height: 32px;\n",
              "      padding: 0 0 0 0;\n",
              "      width: 32px;\n",
              "    }\n",
              "\n",
              "    .colab-df-convert:hover {\n",
              "      background-color: #E2EBFA;\n",
              "      box-shadow: 0px 1px 2px rgba(60, 64, 67, 0.3), 0px 1px 3px 1px rgba(60, 64, 67, 0.15);\n",
              "      fill: #174EA6;\n",
              "    }\n",
              "\n",
              "    [theme=dark] .colab-df-convert {\n",
              "      background-color: #3B4455;\n",
              "      fill: #D2E3FC;\n",
              "    }\n",
              "\n",
              "    [theme=dark] .colab-df-convert:hover {\n",
              "      background-color: #434B5C;\n",
              "      box-shadow: 0px 1px 3px 1px rgba(0, 0, 0, 0.15);\n",
              "      filter: drop-shadow(0px 1px 2px rgba(0, 0, 0, 0.3));\n",
              "      fill: #FFFFFF;\n",
              "    }\n",
              "  </style>\n",
              "\n",
              "      <script>\n",
              "        const buttonEl =\n",
              "          document.querySelector('#df-3733cea1-2c58-4f48-9179-1acc77d59d27 button.colab-df-convert');\n",
              "        buttonEl.style.display =\n",
              "          google.colab.kernel.accessAllowed ? 'block' : 'none';\n",
              "\n",
              "        async function convertToInteractive(key) {\n",
              "          const element = document.querySelector('#df-3733cea1-2c58-4f48-9179-1acc77d59d27');\n",
              "          const dataTable =\n",
              "            await google.colab.kernel.invokeFunction('convertToInteractive',\n",
              "                                                     [key], {});\n",
              "          if (!dataTable) return;\n",
              "\n",
              "          const docLinkHtml = 'Like what you see? Visit the ' +\n",
              "            '<a target=\"_blank\" href=https://colab.research.google.com/notebooks/data_table.ipynb>data table notebook</a>'\n",
              "            + ' to learn more about interactive tables.';\n",
              "          element.innerHTML = '';\n",
              "          dataTable['output_type'] = 'display_data';\n",
              "          await google.colab.output.renderOutput(dataTable, element);\n",
              "          const docLink = document.createElement('div');\n",
              "          docLink.innerHTML = docLinkHtml;\n",
              "          element.appendChild(docLink);\n",
              "        }\n",
              "      </script>\n",
              "    </div>\n",
              "  </div>\n"
            ]
          },
          "metadata": {},
          "execution_count": 140
        }
      ]
    },
    {
      "cell_type": "code",
      "source": [
        "df['cleaned_tweet'] = df['text'].apply(Step_words_l)"
      ],
      "metadata": {
        "id": "uJg3r4vcavvf"
      },
      "execution_count": null,
      "outputs": []
    },
    {
      "cell_type": "code",
      "source": [
        "df.columns"
      ],
      "metadata": {
        "id": "ADuzPGUMbsI8",
        "colab": {
          "base_uri": "https://localhost:8080/"
        },
        "outputId": "acdb9f3d-c3de-4aa3-9d28-e8e4b37234fb"
      },
      "execution_count": null,
      "outputs": [
        {
          "output_type": "execute_result",
          "data": {
            "text/plain": [
              "Index(['tweet_id', 'airline_sentiment', 'airline_sentiment_confidence',\n",
              "       'negativereason', 'negativereason_confidence', 'airline',\n",
              "       'airline_sentiment_gold', 'name', 'negativereason_gold',\n",
              "       'retweet_count', 'text', 'tweet_coord', 'tweet_created',\n",
              "       'tweet_location', 'user_timezone', 'cleaned_tweet'],\n",
              "      dtype='object')"
            ]
          },
          "metadata": {},
          "execution_count": 21
        }
      ]
    },
    {
      "cell_type": "code",
      "source": [
        "df.columns"
      ],
      "metadata": {
        "colab": {
          "base_uri": "https://localhost:8080/"
        },
        "id": "49zLVBZqnHXM",
        "outputId": "e7ce247e-ab92-4425-d02b-6f06d26ec7b5"
      },
      "execution_count": null,
      "outputs": [
        {
          "output_type": "execute_result",
          "data": {
            "text/plain": [
              "Index(['tweet_id', 'airline_sentiment', 'airline_sentiment_confidence',\n",
              "       'negativereason', 'negativereason_confidence', 'airline',\n",
              "       'airline_sentiment_gold', 'name', 'negativereason_gold',\n",
              "       'retweet_count', 'text', 'tweet_coord', 'tweet_created',\n",
              "       'tweet_location', 'user_timezone', 'cleaned_tweet',\n",
              "       'stopwords_removed'],\n",
              "      dtype='object')"
            ]
          },
          "metadata": {},
          "execution_count": 27
        }
      ]
    },
    {
      "cell_type": "code",
      "source": [
        "df['stopwords_removed']"
      ],
      "metadata": {
        "colab": {
          "base_uri": "https://localhost:8080/"
        },
        "id": "Ax1oKcpVnPhf",
        "outputId": "cc6d5169-e9ae-4155-d873-98ba468b3f41"
      },
      "execution_count": null,
      "outputs": [
        {
          "output_type": "execute_result",
          "data": {
            "text/plain": [
              "0           [@, VirginAmerica, What, @, dhepburn, said, .]\n",
              "1        [@, VirginAmerica, plus, 've, added, commercia...\n",
              "2        [@, VirginAmerica, I, n't, today, ..., Must, m...\n",
              "3        [@, VirginAmerica, 's, really, aggressive, bla...\n",
              "4          [@, VirginAmerica, 's, really, big, bad, thing]\n",
              "                               ...                        \n",
              "14635    [@, AmericanAir, thank, got, different, flight...\n",
              "14636    [@, AmericanAir, leaving, 20, minutes, Late, F...\n",
              "14637    [@, AmericanAir, Please, bring, American, Airl...\n",
              "14638    [@, AmericanAir, money, ,, change, flight, ,, ...\n",
              "14639    [@, AmericanAir, 8, ppl, need, 2, know, many, ...\n",
              "Name: stopwords_removed, Length: 14640, dtype: object"
            ]
          },
          "metadata": {},
          "execution_count": 28
        }
      ]
    },
    {
      "cell_type": "code",
      "source": [
        "df['postag_applyed'] = df['text'].apply(pos_tagging)"
      ],
      "metadata": {
        "id": "EaT6urDDnye9"
      },
      "execution_count": null,
      "outputs": []
    },
    {
      "cell_type": "code",
      "source": [
        "df.columns"
      ],
      "metadata": {
        "colab": {
          "base_uri": "https://localhost:8080/"
        },
        "id": "dtkG50pfoSA7",
        "outputId": "f789a6aa-41a7-4cf2-8562-0922d6c31113"
      },
      "execution_count": null,
      "outputs": [
        {
          "output_type": "execute_result",
          "data": {
            "text/plain": [
              "Index(['tweet_id', 'airline_sentiment', 'airline_sentiment_confidence',\n",
              "       'negativereason', 'negativereason_confidence', 'airline',\n",
              "       'airline_sentiment_gold', 'name', 'negativereason_gold',\n",
              "       'retweet_count', 'text', 'tweet_coord', 'tweet_created',\n",
              "       'tweet_location', 'user_timezone', 'cleaned_tweet', 'stopwords_removed',\n",
              "       'postag_applyed'],\n",
              "      dtype='object')"
            ]
          },
          "metadata": {},
          "execution_count": 32
        }
      ]
    },
    {
      "cell_type": "code",
      "source": [
        "df['postag_applyed']"
      ],
      "metadata": {
        "colab": {
          "base_uri": "https://localhost:8080/"
        },
        "id": "KajSsprFogkM",
        "outputId": "af76eb4c-6c71-420c-ef84-0296ce27a1fc"
      },
      "execution_count": null,
      "outputs": [
        {
          "output_type": "execute_result",
          "data": {
            "text/plain": [
              "0        [(@, NN), (VirginAmerica, NNP), (What, WP), (@...\n",
              "1        [(@, NN), (VirginAmerica, NNP), (plus, CC), (y...\n",
              "2        [(@, NN), (VirginAmerica, NNP), (I, PRP), (did...\n",
              "3        [(@, NN), (VirginAmerica, NNP), (it, PRP), ('s...\n",
              "4        [(@, NN), (VirginAmerica, NNP), (and, CC), (it...\n",
              "                               ...                        \n",
              "14635    [(@, JJ), (AmericanAir, NNP), (thank, NN), (yo...\n",
              "14636    [(@, JJ), (AmericanAir, NNP), (leaving, VBG), ...\n",
              "14637    [(@, JJ), (AmericanAir, NNP), (Please, NNP), (...\n",
              "14638    [(@, RB), (AmericanAir, NNP), (you, PRP), (hav...\n",
              "14639    [(@, JJ), (AmericanAir, NNP), (we, PRP), (have...\n",
              "Name: postag_applyed, Length: 14640, dtype: object"
            ]
          },
          "metadata": {},
          "execution_count": 33
        }
      ]
    },
    {
      "cell_type": "code",
      "source": [
        "df['proterstmer_applyed'] = df['text'].apply(Step_words_porterStemer)"
      ],
      "metadata": {
        "id": "R_qvM6wVpx68"
      },
      "execution_count": null,
      "outputs": []
    },
    {
      "cell_type": "code",
      "source": [
        "df.columns"
      ],
      "metadata": {
        "colab": {
          "base_uri": "https://localhost:8080/"
        },
        "id": "nWapBbORqJ2b",
        "outputId": "d905099e-cce0-4803-b77f-c0d2290a7516"
      },
      "execution_count": null,
      "outputs": [
        {
          "output_type": "execute_result",
          "data": {
            "text/plain": [
              "Index(['tweet_id', 'airline_sentiment', 'airline_sentiment_confidence',\n",
              "       'negativereason', 'negativereason_confidence', 'airline',\n",
              "       'airline_sentiment_gold', 'name', 'negativereason_gold',\n",
              "       'retweet_count', 'text', 'tweet_coord', 'tweet_created',\n",
              "       'tweet_location', 'user_timezone', 'cleaned_tweet', 'stopwords_removed',\n",
              "       'postag_applyed', 'proterstmer_applyed'],\n",
              "      dtype='object')"
            ]
          },
          "metadata": {},
          "execution_count": 36
        }
      ]
    },
    {
      "cell_type": "code",
      "source": [
        "df['proterstmer_applyed']"
      ],
      "metadata": {
        "colab": {
          "base_uri": "https://localhost:8080/"
        },
        "id": "s44x7spXqN70",
        "outputId": "cbccb29d-cd98-4794-ea35-223dc8a2ebce"
      },
      "execution_count": null,
      "outputs": [
        {
          "output_type": "execute_result",
          "data": {
            "text/plain": [
              "0           [@, virginamerica, what, @, dhepburn, said, .]\n",
              "1        [@, virginamerica, plu, you, 've, ad, commerci...\n",
              "2        [@, virginamerica, i, did, n't, today, ..., mu...\n",
              "3        [@, virginamerica, it, 's, realli, aggress, to...\n",
              "4        [@, virginamerica, and, it, 's, a, realli, big...\n",
              "                               ...                        \n",
              "14635    [@, americanair, thank, you, we, got, on, a, d...\n",
              "14636    [@, americanair, leav, over, 20, minut, late, ...\n",
              "14637    [@, americanair, pleas, bring, american, airli...\n",
              "14638    [@, americanair, you, have, my, money, ,, you,...\n",
              "14639    [@, americanair, we, have, 8, ppl, so, we, nee...\n",
              "Name: proterstmer_applyed, Length: 14640, dtype: object"
            ]
          },
          "metadata": {},
          "execution_count": 37
        }
      ]
    },
    {
      "cell_type": "code",
      "source": [
        "import matplotlib.pyplot as plt\n",
        "import seaborn as sns"
      ],
      "metadata": {
        "id": "YH-uZkeEs98L"
      },
      "execution_count": null,
      "outputs": []
    },
    {
      "cell_type": "code",
      "source": [
        "df.airline.value_counts().plot(kind=\"bar\")"
      ],
      "metadata": {
        "colab": {
          "base_uri": "https://localhost:8080/",
          "height": 539
        },
        "id": "ufFzPuoisGSE",
        "outputId": "29046b0f-0287-4ba9-f357-b3d4ea431acd"
      },
      "execution_count": null,
      "outputs": [
        {
          "output_type": "execute_result",
          "data": {
            "text/plain": [
              "<Axes: >"
            ]
          },
          "metadata": {},
          "execution_count": 51
        },
        {
          "output_type": "display_data",
          "data": {
            "text/plain": [
              "<Figure size 640x480 with 1 Axes>"
            ],
            "image/png": "[encoded data removed]"
          },
          "metadata": {}
        }
      ]
    },
    {
      "cell_type": "code",
      "source": [
        "setement = df.groupby(['airline', 'airline_sentiment']).airline_sentiment.count()\n",
        "setement.plot(kind='bar')"
      ],
      "metadata": {
        "colab": {
          "base_uri": "https://localhost:8080/",
          "height": 635
        },
        "id": "4Y6dq5cDuZWU",
        "outputId": "39a82ea6-2c82-449b-f1f8-dd06f1f93af3"
      },
      "execution_count": null,
      "outputs": [
        {
          "output_type": "execute_result",
          "data": {
            "text/plain": [
              "<Axes: xlabel='airline,airline_sentiment'>"
            ]
          },
          "metadata": {},
          "execution_count": 55
        },
        {
          "output_type": "display_data",
          "data": {
            "text/plain": [
              "<Figure size 640x480 with 1 Axes>"
            ],
            "image/png": "[encoded data removed]"
          },
          "metadata": {}
        }
      ]
    },
    {
      "cell_type": "code",
      "source": [
        "import re"
      ],
      "metadata": {
        "id": "25EBZbbi3p7z"
      },
      "execution_count": null,
      "outputs": []
    },
    {
      "cell_type": "code",
      "source": [
        "df['clened_dat'] = df['text'].apply(Stopwords_learn)"
      ],
      "metadata": {
        "id": "8mjvLulo4m-L"
      },
      "execution_count": null,
      "outputs": []
    },
    {
      "cell_type": "code",
      "source": [
        "df['clened_data']"
      ],
      "metadata": {
        "colab": {
          "base_uri": "https://localhost:8080/"
        },
        "id": "4UKe589n5nLz",
        "outputId": "03c7c1da-9e5e-438f-94b2-e611cf1c2213"
      },
      "execution_count": null,
      "outputs": [
        {
          "output_type": "execute_result",
          "data": {
            "text/plain": [
              "0           [@, VirginAmerica, What, @, dhepburn, said, .]\n",
              "1        [@, VirginAmerica, plus, 've, added, commercia...\n",
              "2        [@, VirginAmerica, I, n't, today, ..., Must, m...\n",
              "3        [@, VirginAmerica, 's, really, aggressive, bla...\n",
              "4          [@, VirginAmerica, 's, really, big, bad, thing]\n",
              "                               ...                        \n",
              "14635    [@, AmericanAir, thank, got, different, flight...\n",
              "14636    [@, AmericanAir, leaving, 20, minutes, Late, F...\n",
              "14637    [@, AmericanAir, Please, bring, American, Airl...\n",
              "14638    [@, AmericanAir, money, ,, change, flight, ,, ...\n",
              "14639    [@, AmericanAir, 8, ppl, need, 2, know, many, ...\n",
              "Name: clened_data, Length: 14640, dtype: object"
            ]
          },
          "metadata": {},
          "execution_count": 119
        }
      ]
    },
    {
      "cell_type": "code",
      "source": [],
      "metadata": {
        "id": "bfwjFbwdKR2i"
      },
      "execution_count": null,
      "outputs": []
    },
    {
      "cell_type": "code",
      "source": [
        "df['clened_data'] = df['text'].apply(Stopwords_learn)"
      ],
      "metadata": {
        "id": "hdgcR2YbKzsS"
      },
      "execution_count": null,
      "outputs": []
    },
    {
      "cell_type": "code",
      "source": [
        "from sklearn.feature_extraction.text import CountVectorizer, TfidfVectorizer\n",
        "tdfvec = TfidfVectorizer(use_idf=True, lowercase=False)"
      ],
      "metadata": {
        "id": "eyf3KMzJ9X5S"
      },
      "execution_count": null,
      "outputs": []
    },
    {
      "cell_type": "code",
      "source": [
        "df['clened_data']= tdfvec.fit_transform(df['clened_data'].values)"
      ],
      "metadata": {
        "id": "B07ACcLP76CT"
      },
      "execution_count": null,
      "outputs": []
    },
    {
      "cell_type": "code",
      "source": [
        "tdfvec.vocabulary_"
      ],
      "metadata": {
        "colab": {
          "base_uri": "https://localhost:8080/"
        },
        "id": "1JBVJTcq9HI8",
        "outputId": "78c83bdd-66eb-4f91-ea5a-31de233fb212"
      },
      "execution_count": null,
      "outputs": [
        {
          "output_type": "execute_result",
          "data": {
            "text/plain": [
              "{'VirginAmerica': 7554,\n",
              " 'What': 7695,\n",
              " 'dhepburn': 10242,\n",
              " 'said': 15368,\n",
              " 'plus': 14362,\n",
              " 've': 17290,\n",
              " 'added': 8049,\n",
              " 'commercials': 9584,\n",
              " 'experience': 10909,\n",
              " 'tacky': 16414,\n",
              " 'today': 16709,\n",
              " 'Must': 5348,\n",
              " 'mean': 13193,\n",
              " 'need': 13550,\n",
              " 'take': 16427,\n",
              " 'another': 8319,\n",
              " 'trip': 16869,\n",
              " 'really': 14836,\n",
              " 'aggressive': 8125,\n",
              " 'blast': 8878,\n",
              " 'obnoxious': 13803,\n",
              " 'entertainment': 10745,\n",
              " 'guests': 11698,\n",
              " 'faces': 10964,\n",
              " 'amp': 8275,\n",
              " 'little': 12891,\n",
              " 'recourse': 14891,\n",
              " 'big': 8828,\n",
              " 'bad': 8633,\n",
              " 'thing': 16595,\n",
              " 'seriously': 15569,\n",
              " 'would': 17721,\n",
              " 'pay': 14168,\n",
              " '30': 775,\n",
              " 'flight': 11176,\n",
              " 'seats': 15501,\n",
              " 'playing': 14333,\n",
              " 'flying': 11246,\n",
              " 'VA': 7477,\n",
              " 'yes': 17809,\n",
              " 'nearly': 13546,\n",
              " 'every': 10827,\n",
              " 'time': 16670,\n",
              " 'fly': 11230,\n",
              " 'VX': 7504,\n",
              " 'ear': 10578,\n",
              " 'worm': 17695,\n",
              " 'go': 11570,\n",
              " 'away': 8583,\n",
              " 'Really': 6173,\n",
              " 'missed': 13345,\n",
              " 'prime': 14540,\n",
              " 'opportunity': 13919,\n",
              " 'Men': 5241,\n",
              " 'Without': 7746,\n",
              " 'Hats': 4208,\n",
              " 'parody': 14111,\n",
              " 'https': 12044,\n",
              " 'co': 9510,\n",
              " 'mWpG7grEZP': 13072,\n",
              " 'virginamerica': 17343,\n",
              " 'Well': 7679,\n",
              " 'didn': 10257,\n",
              " 'but': 9104,\n",
              " 'NOW': 5425,\n",
              " 'DO': 3109,\n",
              " 'amazing': 8245,\n",
              " 'arrived': 8445,\n",
              " 'hour': 12028,\n",
              " 'early': 10581,\n",
              " 'You': 7877,\n",
              " 're': 14806,\n",
              " 'good': 11591,\n",
              " 'know': 12657,\n",
              " 'suicide': 16264,\n",
              " 'second': 15503,\n",
              " 'leading': 12765,\n",
              " 'cause': 9256,\n",
              " 'death': 10077,\n",
              " 'among': 8271,\n",
              " 'teens': 16488,\n",
              " '10': 59,\n",
              " '24': 608,\n",
              " 'lt': 13021,\n",
              " 'pretty': 14518,\n",
              " 'graphics': 11640,\n",
              " 'much': 13453,\n",
              " 'better': 8808,\n",
              " 'minimal': 13312,\n",
              " 'iconography': 12116,\n",
              " 'This': 7031,\n",
              " 'great': 11646,\n",
              " 'deal': 10071,\n",
              " 'Already': 2052,\n",
              " 'thinking': 16601,\n",
              " '2nd': 752,\n",
              " 'Australia': 2205,\n",
              " 'even': 10816,\n",
              " 'gone': 11588,\n",
              " '1st': 483,\n",
              " 'yet': 17812,\n",
              " 'virginmedia': 17345,\n",
              " 'fabulous': 10959,\n",
              " 'Seductive': 6534,\n",
              " 'skies': 15771,\n",
              " 'stress': 16182,\n",
              " 'travel': 16826,\n",
              " 'http': 12043,\n",
              " 'ahlXHhKiyn': 8140,\n",
              " 'Thanks': 6993,\n",
              " 'SFO': 6358,\n",
              " 'PDX': 5737,\n",
              " 'schedule': 15448,\n",
              " 'still': 16122,\n",
              " 'MIA': 5067,\n",
              " 'So': 6650,\n",
              " 'excited': 10862,\n",
              " 'first': 11130,\n",
              " 'cross': 9912,\n",
              " 'country': 9837,\n",
              " 'LAX': 4784,\n",
              " 'MCO': 5045,\n",
              " 'heard': 11842,\n",
              " 'nothing': 13724,\n",
              " 'things': 16596,\n",
              " 'Virgin': 7553,\n",
              " 'America': 2069,\n",
              " '29DaysToGo': 700,\n",
              " 'flew': 11164,\n",
              " 'NYC': 5439,\n",
              " 'last': 12726,\n",
              " 'week': 17504,\n",
              " 'could': 9826,\n",
              " 'fully': 11422,\n",
              " 'sit': 15748,\n",
              " 'seat': 15496,\n",
              " 'due': 10540,\n",
              " 'two': 16944,\n",
              " 'large': 12722,\n",
              " 'gentleman': 11498,\n",
              " 'either': 10637,\n",
              " 'side': 15705,\n",
              " 'HELP': 4133,\n",
              " 'amazingly': 8246,\n",
              " 'awesome': 8586,\n",
              " 'BOS': 2323,\n",
              " 'FLL': 3622,\n",
              " 'PLEASE': 5773,\n",
              " 'want': 17440,\n",
              " 'fares': 11009,\n",
              " 'May': 5199,\n",
              " 'three': 16628,\n",
              " 'times': 16675,\n",
              " 'carriers': 9223,\n",
              " 'available': 8562,\n",
              " 'select': 15532,\n",
              " 'love': 12994,\n",
              " 'graphic': 11639,\n",
              " 'UT5GrRwAaA': 7383,\n",
              " 'hipster': 11915,\n",
              " 'innovation': 12309,\n",
              " 'feel': 11051,\n",
              " 'brand': 8982,\n",
              " 'making': 13108,\n",
              " 'gt': 11689,\n",
              " 'LAS': 4778,\n",
              " 'non': 13671,\n",
              " 'stop': 16145,\n",
              " 'permanently': 14217,\n",
              " 'anytime': 8346,\n",
              " 'soon': 15923,\n",
              " 'guys': 11714,\n",
              " 'messed': 13260,\n",
              " 'seating': 15500,\n",
              " 'reserved': 15107,\n",
              " 'friends': 11379,\n",
              " 'gave': 11478,\n",
              " 'free': 11353,\n",
              " 'internet': 12383,\n",
              " 'status': 16087,\n",
              " 'match': 13165,\n",
              " 'program': 14593,\n",
              " 'applied': 8382,\n",
              " 'weeks': 17509,\n",
              " 'Called': 2740,\n",
              " 'emailed': 10663,\n",
              " 'response': 15128,\n",
              " 'happened': 11780,\n",
              " 'ur': 17186,\n",
              " 'vegan': 17294,\n",
              " 'food': 11277,\n",
              " 'options': 13925,\n",
              " 'At': 2183,\n",
              " 'least': 12777,\n",
              " 'say': 15419,\n",
              " 'site': 15749,\n",
              " 'wo': 17657,\n",
              " 'able': 7962,\n",
              " 'eat': 10601,\n",
              " 'anything': 8345,\n",
              " 'next': 13604,\n",
              " 'hrs': 12039,\n",
              " 'fail': 10969,\n",
              " 'miss': 13344,\n",
              " 'Do': 3296,\n",
              " 'worry': 17700,\n",
              " 'll': 12904,\n",
              " 'together': 16714,\n",
              " 'ca': 9138,\n",
              " 'get': 11507,\n",
              " 'cold': 9536,\n",
              " 'air': 8147,\n",
              " 'vents': 17304,\n",
              " 'VX358': 7505,\n",
              " 'noair': 13638,\n",
              " 'worstflightever': 17712,\n",
              " 'roasted': 15243,\n",
              " 'SFOtoBOS': 6359,\n",
              " 'EWR': 3414,\n",
              " 'Middle': 5257,\n",
              " 'red': 14902,\n",
              " 'eye': 10948,\n",
              " 'Such': 6784,\n",
              " 'noob': 13686,\n",
              " 'maneuver': 13124,\n",
              " 'sendambien': 15548,\n",
              " 'andchexmix': 8285,\n",
              " 'hi': 11894,\n",
              " 'bked': 8864,\n",
              " 'cool': 9794,\n",
              " 'birthday': 8847,\n",
              " 'add': 8048,\n",
              " 'elevate': 10648,\n",
              " 'entered': 10738,\n",
              " 'middle': 13278,\n",
              " 'name': 13509,\n",
              " 'Flight': 3771,\n",
              " 'Booking': 2501,\n",
              " 'Problems': 6008,\n",
              " 'Are': 2150,\n",
              " 'hours': 12029,\n",
              " 'operation': 13911,\n",
              " 'Club': 2899,\n",
              " 'posted': 14423,\n",
              " 'online': 13891,\n",
              " 'current': 9947,\n",
              " 'help': 11866,\n",
              " 'left': 12787,\n",
              " 'expensive': 10907,\n",
              " 'headphones': 11836,\n",
              " '89': 1636,\n",
              " 'IAD': 4347,\n",
              " 'Seat': 6521,\n",
              " '2A': 701,\n",
              " 'No': 5522,\n",
              " 'one': 13881,\n",
              " 'answering': 8325,\n",
              " 'number': 13760,\n",
              " 'awaiting': 8578,\n",
              " 'return': 15173,\n",
              " 'phone': 14249,\n",
              " 'call': 9159,\n",
              " 'prefer': 14477,\n",
              " 'use': 17217,\n",
              " 'self': 15538,\n",
              " 'service': 15576,\n",
              " 'option': 13924,\n",
              " 'news': 13602,\n",
              " 'start': 16067,\n",
              " 'flights': 11197,\n",
              " 'Hawaii': 4213,\n",
              " 'end': 10705,\n",
              " 'year': 17799,\n",
              " 'r8p2Zy3fe4': 14746,\n",
              " 'via': 17322,\n",
              " 'Pacificbiznews': 5823,\n",
              " 'Nice': 5509,\n",
              " 'RT': 6128,\n",
              " 'Vibe': 7540,\n",
              " 'moodlight': 13404,\n",
              " 'takeoff': 16431,\n",
              " 'touchdown': 16765,\n",
              " 'MoodlitMonday': 5321,\n",
              " 'ScienceBehindTheExperience': 6511,\n",
              " 'Y7O0uNxTQP': 7822,\n",
              " 'Moodlighting': 5320,\n",
              " 'way': 17477,\n",
              " 'Best': 2434,\n",
              " 'EVER': 3407,\n",
              " 'Cool': 2977,\n",
              " 'calming': 9168,\n",
              " 'freddieawards': 11352,\n",
              " 'Done': 3309,\n",
              " 'done': 10444,\n",
              " 'airline': 8161,\n",
              " 'around': 8436,\n",
              " 'hands': 11765,\n",
              " 'book': 8926,\n",
              " 'Your': 7879,\n",
              " 'chat': 9340,\n",
              " 'support': 16297,\n",
              " 'working': 17687,\n",
              " 'vhp2GtDWPk': 17321,\n",
              " 'View': 7546,\n",
              " 'downtown': 10482,\n",
              " 'Los': 4980,\n",
              " 'Angeles': 2097,\n",
              " 'Hollywood': 4289,\n",
              " 'Sign': 6603,\n",
              " 'beyond': 8815,\n",
              " 'rain': 14766,\n",
              " 'mountains': 13429,\n",
              " 'Dw5nf0ibtr': 3360,\n",
              " 'Hey': 4255,\n",
              " 'flyer': 11241,\n",
              " 'But': 2589,\n",
              " 'hard': 11795,\n",
              " 'getting': 11521,\n",
              " 'Elevate': 3460,\n",
              " 'account': 8005,\n",
              " 'Help': 4239,\n",
              " 'plz': 14363,\n",
              " 'win': 17611,\n",
              " 'bid': 8827,\n",
              " 'upgrade': 17169,\n",
              " '27': 663,\n",
              " 'SEA': 6347,\n",
              " 'unused': 17154,\n",
              " 'ticket': 16653,\n",
              " 'moved': 13433,\n",
              " 'new': 13595,\n",
              " 'city': 9427,\n",
              " 'How': 4320,\n",
              " 'expires': 10917,\n",
              " 'travelhelp': 16831,\n",
              " 'leaving': 12783,\n",
              " 'Dallas': 3152,\n",
              " 'Seattle': 6525,\n",
              " 'Feb': 3712,\n",
              " 'elevategold': 10650,\n",
              " 'reason': 14842,\n",
              " 'rock': 15254,\n",
              " 'DREAM': 3128,\n",
              " 'oA2dRfAoQ2': 13787,\n",
              " 'lWWdAc2kHx': 12687,\n",
              " 'wow': 17727,\n",
              " 'blew': 8885,\n",
              " 'mind': 13306,\n",
              " 'ladygaga': 12701,\n",
              " 'carrieunderwood': 9224,\n",
              " 'After': 1995,\n",
              " 'night': 13618,\n",
              " 'tribute': 16861,\n",
              " 'SoundOfMusic': 6674,\n",
              " 'Oscars2015': 5693,\n",
              " 'think': 16599,\n",
              " 'agree': 8130,\n",
              " 'All': 2043,\n",
              " 'entertaining': 10744,\n",
              " 'Is': 4510,\n",
              " '769': 1532,\n",
              " 'Was': 7648,\n",
              " 'supposed': 16302,\n",
              " 'minutes': 13320,\n",
              " 'ago': 8129,\n",
              " 'Website': 7669,\n",
              " 'shows': 15688,\n",
              " 'On': 5653,\n",
              " 'Time': 7062,\n",
              " 'In': 4439,\n",
              " 'Julie': 4656,\n",
              " 'Andrews': 2094,\n",
              " 'though': 16616,\n",
              " 'impressive': 12185,\n",
              " 'NO': 5414,\n",
              " 'Carrieunderwood': 2779,\n",
              " 'wish': 17640,\n",
              " 'Atlanta': 2185,\n",
              " 'Soon': 6664,\n",
              " 'Hands': 4191,\n",
              " 'Will': 7729,\n",
              " 'LA': 4772,\n",
              " 'February': 3713,\n",
              " '24th': 629,\n",
              " '99': 1718,\n",
              " 'LGA': 4799,\n",
              " 'DAL': 3057,\n",
              " 'trying': 16901,\n",
              " 'since': 15733,\n",
              " 'page': 14073,\n",
              " 'never': 13583,\n",
              " 'loads': 12914,\n",
              " 'thx': 16647,\n",
              " 'Need': 5475,\n",
              " 'spotify': 16016,\n",
              " 'stat': 16075,\n",
              " 'guiltypleasures': 11703,\n",
              " 'Lady': 4869,\n",
              " 'Gaga': 3973,\n",
              " 'She': 6580,\n",
              " 'Carrie': 2777,\n",
              " 'New': 5491,\n",
              " 'marketing': 13145,\n",
              " 'song': 15920,\n",
              " 'F2LFULCbQ7': 3573,\n",
              " 'let': 12809,\n",
              " 'us': 17192,\n",
              " 'Meh': 5227,\n",
              " 'called': 9162,\n",
              " 'adding': 8050,\n",
              " '2014': 506,\n",
              " 'shown': 15687,\n",
              " 'CarrieUnderwood': 2778,\n",
              " 'LadyGaga': 4870,\n",
              " 'Sorry': 6668,\n",
              " 'Mary': 5185,\n",
              " 'Martin': 5183,\n",
              " 'beat': 8735,\n",
              " 'classics': 9445,\n",
              " '0736': 39,\n",
              " 'DCA': 3066,\n",
              " '10pm': 111,\n",
              " 'Tried': 7125,\n",
              " 'check': 9353,\n",
              " 'Status': 6749,\n",
              " 'please': 14340,\n",
              " 'heyyyy': 11891,\n",
              " 'guyyyys': 11715,\n",
              " 'someone': 15912,\n",
              " 'Hi': 4259,\n",
              " 'hold': 11939,\n",
              " '40': 983,\n",
              " '50': 1198,\n",
              " 'earlier': 10579,\n",
              " 'tonight': 16736,\n",
              " '11': 118,\n",
              " '50pm': 1223,\n",
              " 'Congrats': 2954,\n",
              " 'winning': 17625,\n",
              " 'Travelzoo': 7121,\n",
              " 'award': 8580,\n",
              " 'Deals': 3185,\n",
              " 'Airline': 2016,\n",
              " 'US': 7338,\n",
              " 'kj1iljaebV': 12646,\n",
              " 'everything': 10831,\n",
              " 'fine': 11120,\n",
              " 'lost': 12975,\n",
              " 'bag': 8652,\n",
              " 'change': 9310,\n",
              " 'reservation': 15104,\n",
              " 'Have': 4210,\n",
              " 'credit': 9895,\n",
              " 'card': 9206,\n",
              " 'modify': 13382,\n",
              " 'waive': 17418,\n",
              " 'fee': 11048,\n",
              " 'Or': 5675,\n",
              " 'customer': 9962,\n",
              " 'team': 16474,\n",
              " 'Let': 4913,\n",
              " 'tracking': 16786,\n",
              " 'booked': 8928,\n",
              " 'baggage': 8655,\n",
              " 'lax': 12752,\n",
              " 'loft': 12934,\n",
              " 'needs': 13556,\n",
              " 'step': 16105,\n",
              " 'game': 11464,\n",
              " 'dirty': 10302,\n",
              " 'tables': 16410,\n",
              " 'floors': 11211,\n",
              " 'hy0VrfhjHt': 12081,\n",
              " 'worried': 17697,\n",
              " 'ride': 15206,\n",
              " 'plane': 14312,\n",
              " 'crew': 9898,\n",
              " 'airlines': 8166,\n",
              " 'like': 12850,\n",
              " 'yall': 17791,\n",
              " 'Sat': 6489,\n",
              " 'morning': 13412,\n",
              " 'Any': 2120,\n",
              " 'correct': 9807,\n",
              " 'bill': 8834,\n",
              " 'watch': 17468,\n",
              " 'best': 8794,\n",
              " 'student': 16213,\n",
              " 'films': 11103,\n",
              " '35': 862,\n",
              " '000': 1,\n",
              " 'feet': 11060,\n",
              " 'CMFat35000feet': 2675,\n",
              " 'KEK5pDMGiF': 4676,\n",
              " 'different': 10268,\n",
              " 'rate': 14793,\n",
              " 'policy': 14383,\n",
              " 'media': 13212,\n",
              " 'Bags': 2371,\n",
              " 'going': 11580,\n",
              " 'anyway': 8347,\n",
              " 'speak': 15969,\n",
              " 'human': 12053,\n",
              " 'asap': 8456,\n",
              " 'Thank': 6985,\n",
              " 'Doom': 3314,\n",
              " 'supp': 16294,\n",
              " 'biz': 8859,\n",
              " 'traveler': 16828,\n",
              " 'SouthwestAir': 6681,\n",
              " 'JetBlue': 4612,\n",
              " 'neverflyvirginforbusiness': 13589,\n",
              " 'member': 13228,\n",
              " 'inflight': 12284,\n",
              " 'Im': 4429,\n",
              " '100': 60,\n",
              " 'interested': 12371,\n",
              " 'flightattendant': 11191,\n",
              " 'dreampath': 10505,\n",
              " 'Whenever': 7704,\n",
              " 'begrudgingly': 8763,\n",
              " 'delayed': 10125,\n",
              " 'Late': 4886,\n",
              " 'interesting': 12372,\n",
              " 'Cancelled': 2751,\n",
              " 'four': 11328,\n",
              " 'planned': 14318,\n",
              " 'disappointing': 10313,\n",
              " 'shared': 15624,\n",
              " 'business': 9097,\n",
              " 'meet': 13221,\n",
              " 'neverflyvirgin': 13588,\n",
              " 'trouble': 16879,\n",
              " 'wife': 17599,\n",
              " 'pX8hQOKS3R': 14057,\n",
              " 'Ca': 2726,\n",
              " 'bring': 9019,\n",
              " 'using': 17227,\n",
              " 'code': 9525,\n",
              " 'Random': 6150,\n",
              " 'distribution': 10395,\n",
              " 'avatars': 8564,\n",
              " 'bet': 8804,\n",
              " 'kitty': 12645,\n",
              " 'disproportionate': 10371,\n",
              " 'share': 15623,\n",
              " 'APtZpuROp4': 1904,\n",
              " 'Flying': 3827,\n",
              " 'Life': 4923,\n",
              " 'happens': 11782,\n",
              " 'JPERHI': 4562,\n",
              " 'Can': 2745,\n",
              " 'home': 11952,\n",
              " 'Why': 7720,\n",
              " 'When': 7703,\n",
              " 'back': 8619,\n",
              " 'RNP': 6120,\n",
              " 'Yeah': 7858,\n",
              " 'points': 14375,\n",
              " 'recent': 14865,\n",
              " 'TV': 6912,\n",
              " 'video': 17328,\n",
              " 'Just': 4661,\n",
              " 'disappointed': 10312,\n",
              " 'Flightled': 3792,\n",
              " 'went': 17528,\n",
              " 'jfk': 12530,\n",
              " 'Saturday': 6490,\n",
              " 'landed': 12709,\n",
              " 'friendly': 11375,\n",
              " 'nomorevirgin': 13670,\n",
              " '345': 853,\n",
              " 'redirected': 14912,\n",
              " 'website': 17498,\n",
              " 'BTW': 2342,\n",
              " 'user': 17223,\n",
              " 'redesign': 14909,\n",
              " 'tried': 16866,\n",
              " 'desktop': 10205,\n",
              " 'mobile': 13375,\n",
              " 'AvyqdMpi1Y': 2220,\n",
              " 'scanned': 15430,\n",
              " 'passengers': 14136,\n",
              " 'leave': 12781,\n",
              " 'told': 16719,\n",
              " 'remove': 15025,\n",
              " 'class': 9442,\n",
              " 'bin': 8839,\n",
              " 'uncomfortable': 17027,\n",
              " 'find': 11114,\n",
              " 'anyone': 8342,\n",
              " 'useless': 17222,\n",
              " 'boy': 8971,\n",
              " 'Prince': 5998,\n",
              " 'ressie': 15134,\n",
              " 'SF': 6357,\n",
              " 'Thursday': 7047,\n",
              " 'GsB2J3c4gM': 4097,\n",
              " 'must': 13471,\n",
              " 'appointments': 8388,\n",
              " 'sfo2lax': 15603,\n",
              " 'music': 13467,\n",
              " 'maRcnOCWzn': 13074,\n",
              " 'direct': 10293,\n",
              " 'unexpected': 17059,\n",
              " 'layover': 12756,\n",
              " 'Vegas': 7526,\n",
              " 'fuel': 11416,\n",
              " 'peeps': 14186,\n",
              " 'bought': 8961,\n",
              " 'sneaky': 15864,\n",
              " 'AM': 1885,\n",
              " 'apt': 8409,\n",
              " 'Three': 7041,\n",
              " 'people': 14197,\n",
              " 'exp': 10890,\n",
              " 'RaeAnn': 6142,\n",
              " 'customerservice': 9967,\n",
              " 'line': 12864,\n",
              " 'hung': 12063,\n",
              " 'sarcasm': 15389,\n",
              " 'tripping': 16873,\n",
              " 'plain': 14307,\n",
              " 'text': 16532,\n",
              " 'version': 17314,\n",
              " 'reluctant': 15003,\n",
              " 'enter': 10737,\n",
              " 'info': 12286,\n",
              " 'scheduled': 15449,\n",
              " '714': 1486,\n",
              " 'Changed': 2813,\n",
              " 'weather': 17490,\n",
              " 'Looks': 4977,\n",
              " 'getaway': 11509,\n",
              " 'deals': 10074,\n",
              " '59': 1313,\n",
              " 'Lots': 4986,\n",
              " 'cities': 9424,\n",
              " 'tZZJhuIbCH': 16406,\n",
              " 'CheapFlights': 2831,\n",
              " 'FareCompare': 3696,\n",
              " 'RPdBpX3wNd': 6124,\n",
              " 'B2Xi4YG5T8': 2243,\n",
              " 'QDlJHslOI5': 6059,\n",
              " 'come': 9560,\n",
              " 'PHL': 5751,\n",
              " 'already': 8221,\n",
              " 'We': 7661,\n",
              " 'horrible': 11998,\n",
              " 'pleasecomeback': 14341,\n",
              " 'gLXFwP6nQH': 11454,\n",
              " 'concerned': 9664,\n",
              " 'tech': 16479,\n",
              " 'flown': 11215,\n",
              " 'on': 13875,\n",
              " 'Easy': 3438,\n",
              " 'helpful': 11870,\n",
              " 'representatives': 15066,\n",
              " 'comfortable': 9569,\n",
              " 'Another': 2110,\n",
              " 'rep': 15037,\n",
              " 'kicked': 12618,\n",
              " 'butt': 9106,\n",
              " 'Naelah': 5446,\n",
              " 'represents': 15068,\n",
              " 'beautifully': 8742,\n",
              " 'beautiful': 8740,\n",
              " 'front': 11388,\n",
              " 'design': 10195,\n",
              " 'right': 15212,\n",
              " 'secure': 15511,\n",
              " 'Love': 4992,\n",
              " 'running': 15329,\n",
              " 'Gate': 3985,\n",
              " 'E9': 3368,\n",
              " 'Waited': 7633,\n",
              " 'kept': 12612,\n",
              " 'Use': 7464,\n",
              " 'browser': 9040,\n",
              " '2015': 507,\n",
              " 'reputation': 15071,\n",
              " 'built': 9067,\n",
              " 'compatible': 9618,\n",
              " 'And': 2089,\n",
              " 'totally': 16761,\n",
              " 'Folks': 3832,\n",
              " 'problem': 14563,\n",
              " 'min': 13305,\n",
              " 'delay': 10123,\n",
              " 'connecting': 9706,\n",
              " 'seems': 15523,\n",
              " 'long': 12952,\n",
              " 'VA370': 7478,\n",
              " 'thanks': 16548,\n",
              " 'outstanding': 13991,\n",
              " 'JFK': 4545,\n",
              " 'San': 6480,\n",
              " 'Francisco': 3862,\n",
              " 'absolute': 7968,\n",
              " 'ever': 10825,\n",
              " 'Every': 3534,\n",
              " 'delighted': 10137,\n",
              " 'provide': 14637,\n",
              " 'complimentary': 9650,\n",
              " 'upgrades': 17172,\n",
              " 'thats': 16559,\n",
              " '120': 162,\n",
              " 'wait': 17407,\n",
              " 'calling': 9165,\n",
              " 'intern': 12378,\n",
              " 'completely': 9644,\n",
              " 'month': 13400,\n",
              " 'nonstop': 13682,\n",
              " 'depart': 10163,\n",
              " 'VAbeatsJblue': 7481,\n",
              " '882': 1634,\n",
              " 'failing': 10973,\n",
              " 'customers': 9966,\n",
              " 'process': 14573,\n",
              " 'link': 12871,\n",
              " 'TSA': 6903,\n",
              " 'pre': 14459,\n",
              " 'FiDiFamilies': 3728,\n",
              " 'Terrible': 6972,\n",
              " 'hotel': 12016,\n",
              " 'hotline': 12022,\n",
              " 'sorry': 15930,\n",
              " '276': 668,\n",
              " 'Cabo': 2729,\n",
              " 'Lucas': 5002,\n",
              " 'ChrysiChrysic': 2862,\n",
              " 'assistance': 8482,\n",
              " 'yesterday': 17811,\n",
              " 'give': 11546,\n",
              " 'Shame': 6568,\n",
              " 'likingyoulessandless': 12856,\n",
              " 'register': 14960,\n",
              " 'dog': 10433,\n",
              " 'Dulles': 3350,\n",
              " 'The': 7000,\n",
              " 'queue': 14723,\n",
              " 'longer': 12955,\n",
              " 'Pls': 5947,\n",
              " 'advise': 8083,\n",
              " 'ROCK': 6122,\n",
              " 'Oscars': 5692,\n",
              " 'redcarpet': 14903,\n",
              " 'oscars': 13952,\n",
              " 'oscars2015': 13953,\n",
              " 'reallytallchris': 14837,\n",
              " 'dropped': 10524,\n",
              " 'track': 16784,\n",
              " 'zv2pt6TRK9': 17882,\n",
              " 'always': 8234,\n",
              " 'Xoxo': 7817,\n",
              " 'buy': 9109,\n",
              " 'Creates': 3012,\n",
              " 'anxiety': 8336,\n",
              " 'frustrated': 11399,\n",
              " 'paying': 14171,\n",
              " 'extra': 10939,\n",
              " 'bucks': 9056,\n",
              " 'luggage': 13028,\n",
              " 'might': 13284,\n",
              " 'afford': 8099,\n",
              " 'hiring': 11921,\n",
              " 'hand': 11752,\n",
              " 'sfo': 15602,\n",
              " 'lame': 12706,\n",
              " 'world': 17692,\n",
              " 'irmafromDallas': 12421,\n",
              " 'takes': 16433,\n",
              " 'cake': 9153,\n",
              " 'flt': 11216,\n",
              " 'sooner': 15924,\n",
              " 'midnight': 13280,\n",
              " 'Monday': 5308,\n",
              " 'That': 6998,\n",
              " 'cant': 9189,\n",
              " 'imagine': 12159,\n",
              " 'Web': 7667,\n",
              " 'indicates': 12257,\n",
              " 'dude': 10539,\n",
              " 'and': 8284,\n",
              " 'or': 13926,\n",
              " 'staff': 16043,\n",
              " 'super': 16285,\n",
              " 'ran': 14777,\n",
              " 'WaltDisneyWorld': 7643,\n",
              " 'PrincessHalf': 6000,\n",
              " 'spoiled': 16003,\n",
              " 'comfort': 9568,\n",
              " 'paid': 14076,\n",
              " 'premium': 14494,\n",
              " 'across': 8030,\n",
              " 'offer': 13835,\n",
              " 'Sad': 6457,\n",
              " 'face': 10960,\n",
              " 'question': 14721,\n",
              " 'possible': 14419,\n",
              " 'infant': 12275,\n",
              " 'It': 4520,\n",
              " 'giving': 11550,\n",
              " 'Always': 2060,\n",
              " 'welcome': 17518,\n",
              " 'jessicajaymes': 12506,\n",
              " 'dc': 10059,\n",
              " 'sunset': 16282,\n",
              " 'globe': 11563,\n",
              " 'backtowinter': 8629,\n",
              " 'work': 17678,\n",
              " 'refreshed': 14935,\n",
              " 'VX9vBCTdLf': 7509,\n",
              " 'understand': 17040,\n",
              " 'DM': 3101,\n",
              " 'answer': 8323,\n",
              " 'damaged': 10025,\n",
              " 'destroyed': 10218,\n",
              " 'special': 15973,\n",
              " 'alone': 8218,\n",
              " 'kids': 12624,\n",
              " 'Priority': 6004,\n",
              " 'boarding': 8909,\n",
              " 'thank': 16542,\n",
              " 'checking': 9358,\n",
              " 'tickets': 16656,\n",
              " 'purchased': 14673,\n",
              " 'happy': 11786,\n",
              " 'coming': 9574,\n",
              " '713': 1485,\n",
              " 'Field': 3730,\n",
              " 'definitely': 10112,\n",
              " '23': 587,\n",
              " '0769': 40,\n",
              " 'DFW': 3085,\n",
              " 'drivers': 10518,\n",
              " 'license': 12830,\n",
              " 'expired': 10916,\n",
              " 'Friday': 3878,\n",
              " 'problems': 14565,\n",
              " 'web': 17494,\n",
              " 'keeps': 12608,\n",
              " 'error': 10776,\n",
              " 'contact': 9740,\n",
              " 'minute': 13319,\n",
              " 'reschedule': 15089,\n",
              " 'button': 9107,\n",
              " 'greyed': 11660,\n",
              " 'rang': 14780,\n",
              " 'vendor': 17301,\n",
              " 'fix': 11144,\n",
              " 'got': 11609,\n",
              " 'checked': 9355,\n",
              " 'email': 10662,\n",
              " 'TOMORROW': 6889,\n",
              " 'unacceptable': 17005,\n",
              " 'lga': 12825,\n",
              " 'Flighted': 3786,\n",
              " 'stuck': 16207,\n",
              " 'pairings': 14087,\n",
              " 'include': 12221,\n",
              " 'wine': 17618,\n",
              " 'Only': 5662,\n",
              " 'white': 17579,\n",
              " 'offered': 13836,\n",
              " 'redwineisbetter': 14918,\n",
              " 'wonked': 17668,\n",
              " 'look': 12957,\n",
              " 'browsers': 9041,\n",
              " 'CSS': 2707,\n",
              " '8qsQMM7KF2': 1675,\n",
              " 'agent': 8119,\n",
              " 'designated': 10196,\n",
              " 'silver': 15725,\n",
              " 'Dulles_Airport': 3351,\n",
              " 'closed': 9472,\n",
              " 'assist': 8481,\n",
              " 'pasengers': 14129,\n",
              " 'Plans': 5934,\n",
              " 'Include': 4446,\n",
              " 'Austin': 2204,\n",
              " 'Route': 6301,\n",
              " 'TopNews': 7099,\n",
              " 'Arab': 2149,\n",
              " 'Emirates': 3480,\n",
              " 'aqZWecOkk2': 8411,\n",
              " 'normal': 13696,\n",
              " 'receive': 14862,\n",
              " 'reply': 15055,\n",
              " 'Central': 2800,\n",
              " 'Baggage': 2369,\n",
              " 'baggageissues': 8657,\n",
              " 'smh': 15838,\n",
              " 'Logan': 4961,\n",
              " 'airport': 8171,\n",
              " 'waiting': 17410,\n",
              " 'checkin': 9357,\n",
              " '9am': 1732,\n",
              " 'Checkin': 2836,\n",
              " 'desk': 10203,\n",
              " 'open': 13903,\n",
              " 'jump': 12566,\n",
              " 'market': 13144,\n",
              " 'Dallas_News': 3155,\n",
              " 'EwwGi97gdx': 3541,\n",
              " 'Beats': 2411,\n",
              " 'EPS': 3390,\n",
              " 'Views': 7547,\n",
              " 'Takes': 6934,\n",
              " 'LUV': 4852,\n",
              " 'Investor': 4499,\n",
              " 'Business': 2584,\n",
              " 'Daily': 3148,\n",
              " 'FLwmGDAHxu': 3626,\n",
              " 'Lister': 4942,\n",
              " 'show': 15683,\n",
              " '1230': 178,\n",
              " '130': 206,\n",
              " 'begin': 8760,\n",
              " 'April': 2147,\n",
              " '88': 1632,\n",
              " 'KETR': 4678,\n",
              " 'SSUVWwkyHH': 6415,\n",
              " 'congrats': 9697,\n",
              " 'Fuck': 3899,\n",
              " 'united': 17080,\n",
              " 'fl1289': 11151,\n",
              " 'clincher': 9467,\n",
              " 'follow': 11271,\n",
              " 'many': 13134,\n",
              " 'apologies': 8356,\n",
              " 'worse': 17702,\n",
              " 'respond': 15124,\n",
              " 'cudtomers': 9935,\n",
              " 'shame': 15616,\n",
              " 'spend': 15989,\n",
              " 'money': 13392,\n",
              " 'stranded': 16164,\n",
              " 'landing': 12710,\n",
              " 'Who': 7713,\n",
              " 'reimburse': 14972,\n",
              " 'TTINAC11': 6907,\n",
              " 'SJC': 6376,\n",
              " 'choice': 9400,\n",
              " 'Southwest': 6680,\n",
              " '14': 233,\n",
              " 'days': 10056,\n",
              " 'YOUR': 7838,\n",
              " 'confirmation': 9685,\n",
              " 'inquired': 12315,\n",
              " 'claim': 9434,\n",
              " 'tomorrow': 16728,\n",
              " 'notification': 13729,\n",
              " 'rebook': 14851,\n",
              " 'met': 13263,\n",
              " 'Got': 4061,\n",
              " 'Upgrade': 7454,\n",
              " 'restr': 15141,\n",
              " 'RHKaMx9VF5': 6106,\n",
              " 'PYalebgkJt': 5819,\n",
              " 'Gold': 4045,\n",
              " 'If': 4424,\n",
              " 'CMH': 2676,\n",
              " 'lot': 12983,\n",
              " 'thrown': 16640,\n",
              " 'see': 15515,\n",
              " 'Very': 7536,\n",
              " 'sad': 15354,\n",
              " 'Worst': 7770,\n",
              " 'stuff': 16216,\n",
              " 'wrong': 17741,\n",
              " 'Had': 4180,\n",
              " 'worst': 17703,\n",
              " 'Having': 4211,\n",
              " 'issue': 12440,\n",
              " 'finding': 11117,\n",
              " 'missing': 13352,\n",
              " 'item': 12448,\n",
              " 'headed': 11832,\n",
              " 'AmericanAirlines': 2073,\n",
              " 'H952rDKTqy': 4113,\n",
              " 'asarco_ES_ar': 8457,\n",
              " 'lose': 12970,\n",
              " 'suck': 16245,\n",
              " 'Same': 6478,\n",
              " 'persisting': 14221,\n",
              " 'Because': 2413,\n",
              " 'rec': 14857,\n",
              " 'Flightlation': 3790,\n",
              " 'notice': 13726,\n",
              " 'PS': 5803,\n",
              " 'Driving': 3339,\n",
              " 'Mon': 5307,\n",
              " 'Boston': 2509,\n",
              " 'stink': 16131,\n",
              " 'PSP': 5805,\n",
              " 'ability': 7961,\n",
              " 'expected': 10897,\n",
              " 'guy': 11713,\n",
              " 'dancing': 10034,\n",
              " ...}"
            ]
          },
          "metadata": {},
          "execution_count": 159
        }
      ]
    },
    {
      "cell_type": "code",
      "source": [
        "df.columns"
      ],
      "metadata": {
        "colab": {
          "base_uri": "https://localhost:8080/"
        },
        "id": "l423As_a9TLr",
        "outputId": "14c002c8-9982-4cbf-9ae0-838404c912c6"
      },
      "execution_count": null,
      "outputs": [
        {
          "output_type": "execute_result",
          "data": {
            "text/plain": [
              "Index(['tweet_id', 'airline_sentiment', 'airline_sentiment_confidence',\n",
              "       'negativereason', 'negativereason_confidence', 'airline',\n",
              "       'airline_sentiment_gold', 'name', 'negativereason_gold',\n",
              "       'retweet_count', 'text', 'tweet_coord', 'tweet_created',\n",
              "       'tweet_location', 'user_timezone', 'clened_data'],\n",
              "      dtype='object')"
            ]
          },
          "metadata": {},
          "execution_count": 160
        }
      ]
    },
    {
      "cell_type": "code",
      "source": [
        "from sklearn.preprocessing import LabelEncoder\n",
        "laben = LabelEncoder()"
      ],
      "metadata": {
        "id": "TA5P8k8c-hAK"
      },
      "execution_count": null,
      "outputs": []
    },
    {
      "cell_type": "code",
      "source": [
        "df['airline_sentiment'] = laben.fit_transform(df['airline_sentiment'])"
      ],
      "metadata": {
        "id": "j7pr9lE0-vcl"
      },
      "execution_count": null,
      "outputs": []
    },
    {
      "cell_type": "code",
      "source": [
        "y= df['airline_sentiment']\n",
        "y\n",
        "x"
      ],
      "metadata": {
        "id": "EMfFBWpO_Ir_",
        "colab": {
          "base_uri": "https://localhost:8080/"
        },
        "outputId": "1c6bf072-55ba-482b-858f-50f934dc3cfd"
      },
      "execution_count": null,
      "outputs": [
        {
          "output_type": "execute_result",
          "data": {
            "text/plain": [
              "<14640x17885 sparse matrix of type '<class 'numpy.float64'>'\n",
              "\twith 156163 stored elements in Compressed Sparse Row format>"
            ]
          },
          "metadata": {},
          "execution_count": 168
        }
      ]
    },
    {
      "cell_type": "code",
      "source": [
        "from sklearn.model_selection import train_test_split, cross_val_predict\n",
        "from sklearn.metrics import classification_report"
      ],
      "metadata": {
        "id": "P7tA2MUp_6Mc"
      },
      "execution_count": null,
      "outputs": []
    },
    {
      "cell_type": "code",
      "source": [
        "x_train, x_test, y_train, y_test = train_test_split(x, y, test_size=0.33, random_state=42)"
      ],
      "metadata": {
        "id": "v7PxUSlX_yyF"
      },
      "execution_count": null,
      "outputs": []
    },
    {
      "cell_type": "code",
      "source": [
        "from sklearn.svm import SVC"
      ],
      "metadata": {
        "id": "fr1UhOTYAQFr"
      },
      "execution_count": null,
      "outputs": []
    },
    {
      "cell_type": "code",
      "source": [
        "svm = SVC(C=0.1, gamma=1, kernel='rbf')\n",
        "svmfit = svm.fit(x_train, y_train)\n",
        "svm_predict = svmfit.predict(x_test)\n",
        "svm_sc = classification_report(y_test, svm_predict)"
      ],
      "metadata": {
        "colab": {
          "base_uri": "https://localhost:8080/",
          "height": 363
        },
        "id": "Mf1SRxeFAlzc",
        "outputId": "c0b64eb3-dd2f-473b-9521-519452b0d05c"
      },
      "execution_count": null,
      "outputs": [
        {
          "output_type": "error",
          "ename": "ValueError",
          "evalue": "ignored",
          "traceback": [
            "\u001b[0;31m---------------------------------------------------------------------------\u001b[0m",
            "\u001b[0;31mValueError\u001b[0m                                Traceback (most recent call last)",
            "\u001b[0;32m<ipython-input-172-20e4f1470981>\u001b[0m in \u001b[0;36m<cell line: 2>\u001b[0;34m()\u001b[0m\n\u001b[1;32m      1\u001b[0m \u001b[0msvm\u001b[0m \u001b[0;34m=\u001b[0m \u001b[0mSVC\u001b[0m\u001b[0;34m(\u001b[0m\u001b[0mC\u001b[0m\u001b[0;34m=\u001b[0m\u001b[0;36m0.1\u001b[0m\u001b[0;34m,\u001b[0m \u001b[0mgamma\u001b[0m\u001b[0;34m=\u001b[0m\u001b[0;36m1\u001b[0m\u001b[0;34m,\u001b[0m \u001b[0mkernel\u001b[0m\u001b[0;34m=\u001b[0m\u001b[0;34m'rbf'\u001b[0m\u001b[0;34m)\u001b[0m\u001b[0;34m\u001b[0m\u001b[0;34m\u001b[0m\u001b[0m\n\u001b[0;32m----> 2\u001b[0;31m \u001b[0msvmfit\u001b[0m \u001b[0;34m=\u001b[0m \u001b[0msvm\u001b[0m\u001b[0;34m.\u001b[0m\u001b[0mfit\u001b[0m\u001b[0;34m(\u001b[0m\u001b[0mx_train\u001b[0m\u001b[0;34m,\u001b[0m \u001b[0my_train\u001b[0m\u001b[0;34m)\u001b[0m\u001b[0;34m\u001b[0m\u001b[0;34m\u001b[0m\u001b[0m\n\u001b[0m\u001b[1;32m      3\u001b[0m \u001b[0msvm_predict\u001b[0m \u001b[0;34m=\u001b[0m \u001b[0msvmfit\u001b[0m\u001b[0;34m.\u001b[0m\u001b[0mpredict\u001b[0m\u001b[0;34m(\u001b[0m\u001b[0mx_test\u001b[0m\u001b[0;34m)\u001b[0m\u001b[0;34m\u001b[0m\u001b[0;34m\u001b[0m\u001b[0m\n\u001b[1;32m      4\u001b[0m \u001b[0msvm_sc\u001b[0m \u001b[0;34m=\u001b[0m \u001b[0mclassification_report\u001b[0m\u001b[0;34m(\u001b[0m\u001b[0my_test\u001b[0m\u001b[0;34m,\u001b[0m \u001b[0msvm_predict\u001b[0m\u001b[0;34m)\u001b[0m\u001b[0;34m\u001b[0m\u001b[0;34m\u001b[0m\u001b[0m\n",
            "\u001b[0;32m/usr/local/lib/python3.10/dist-packages/sklearn/svm/_base.py\u001b[0m in \u001b[0;36mfit\u001b[0;34m(self, X, y, sample_weight)\u001b[0m\n\u001b[1;32m    199\u001b[0m             )\n\u001b[1;32m    200\u001b[0m \u001b[0;34m\u001b[0m\u001b[0m\n\u001b[0;32m--> 201\u001b[0;31m         \u001b[0my\u001b[0m \u001b[0;34m=\u001b[0m \u001b[0mself\u001b[0m\u001b[0;34m.\u001b[0m\u001b[0m_validate_targets\u001b[0m\u001b[0;34m(\u001b[0m\u001b[0my\u001b[0m\u001b[0;34m)\u001b[0m\u001b[0;34m\u001b[0m\u001b[0;34m\u001b[0m\u001b[0m\n\u001b[0m\u001b[1;32m    202\u001b[0m \u001b[0;34m\u001b[0m\u001b[0m\n\u001b[1;32m    203\u001b[0m         sample_weight = np.asarray(\n",
            "\u001b[0;32m/usr/local/lib/python3.10/dist-packages/sklearn/svm/_base.py\u001b[0m in \u001b[0;36m_validate_targets\u001b[0;34m(self, y)\u001b[0m\n\u001b[1;32m    747\u001b[0m         \u001b[0mself\u001b[0m\u001b[0;34m.\u001b[0m\u001b[0mclass_weight_\u001b[0m \u001b[0;34m=\u001b[0m \u001b[0mcompute_class_weight\u001b[0m\u001b[0;34m(\u001b[0m\u001b[0mself\u001b[0m\u001b[0;34m.\u001b[0m\u001b[0mclass_weight\u001b[0m\u001b[0;34m,\u001b[0m \u001b[0mclasses\u001b[0m\u001b[0;34m=\u001b[0m\u001b[0mcls\u001b[0m\u001b[0;34m,\u001b[0m \u001b[0my\u001b[0m\u001b[0;34m=\u001b[0m\u001b[0my_\u001b[0m\u001b[0;34m)\u001b[0m\u001b[0;34m\u001b[0m\u001b[0;34m\u001b[0m\u001b[0m\n\u001b[1;32m    748\u001b[0m         \u001b[0;32mif\u001b[0m \u001b[0mlen\u001b[0m\u001b[0;34m(\u001b[0m\u001b[0mcls\u001b[0m\u001b[0;34m)\u001b[0m \u001b[0;34m<\u001b[0m \u001b[0;36m2\u001b[0m\u001b[0;34m:\u001b[0m\u001b[0;34m\u001b[0m\u001b[0;34m\u001b[0m\u001b[0m\n\u001b[0;32m--> 749\u001b[0;31m             raise ValueError(\n\u001b[0m\u001b[1;32m    750\u001b[0m                 \u001b[0;34m\"The number of classes has to be greater than one; got %d class\"\u001b[0m\u001b[0;34m\u001b[0m\u001b[0;34m\u001b[0m\u001b[0m\n\u001b[1;32m    751\u001b[0m                 \u001b[0;34m%\u001b[0m \u001b[0mlen\u001b[0m\u001b[0;34m(\u001b[0m\u001b[0mcls\u001b[0m\u001b[0;34m)\u001b[0m\u001b[0;34m\u001b[0m\u001b[0;34m\u001b[0m\u001b[0m\n",
            "\u001b[0;31mValueError\u001b[0m: The number of classes has to be greater than one; got 1 class"
          ]
        }
      ]
    },
    {
      "cell_type": "code",
      "source": [
        "from sklearn.tree import DecisionTreeClassifier"
      ],
      "metadata": {
        "id": "ZMhbH4bZC9s7"
      },
      "execution_count": null,
      "outputs": []
    },
    {
      "cell_type": "code",
      "source": [
        "dt = DecisionTreeClassifier(random_state=10, max_depth=5)\n",
        "dt_pr= cross_val_predict(x, y, cv=10)\n",
        "dt_sc = classification_report(y, dt_pr)"
      ],
      "metadata": {
        "colab": {
          "base_uri": "https://localhost:8080/",
          "height": 380
        },
        "id": "zLCAW28ADJaK",
        "outputId": "21dbb0a5-07d3-4496-9b89-9d98668b9530"
      },
      "execution_count": null,
      "outputs": [
        {
          "output_type": "error",
          "ename": "TypeError",
          "evalue": "ignored",
          "traceback": [
            "\u001b[0;31m---------------------------------------------------------------------------\u001b[0m",
            "\u001b[0;31mTypeError\u001b[0m                                 Traceback (most recent call last)",
            "\u001b[0;32m<ipython-input-174-27ca993be8bf>\u001b[0m in \u001b[0;36m<cell line: 2>\u001b[0;34m()\u001b[0m\n\u001b[1;32m      1\u001b[0m \u001b[0mdt\u001b[0m \u001b[0;34m=\u001b[0m \u001b[0mDecisionTreeClassifier\u001b[0m\u001b[0;34m(\u001b[0m\u001b[0mrandom_state\u001b[0m\u001b[0;34m=\u001b[0m\u001b[0;36m10\u001b[0m\u001b[0;34m,\u001b[0m \u001b[0mmax_depth\u001b[0m\u001b[0;34m=\u001b[0m\u001b[0;36m5\u001b[0m\u001b[0;34m)\u001b[0m\u001b[0;34m\u001b[0m\u001b[0;34m\u001b[0m\u001b[0m\n\u001b[0;32m----> 2\u001b[0;31m \u001b[0mdt_pr\u001b[0m\u001b[0;34m=\u001b[0m \u001b[0mcross_val_predict\u001b[0m\u001b[0;34m(\u001b[0m\u001b[0mx\u001b[0m\u001b[0;34m,\u001b[0m \u001b[0my\u001b[0m\u001b[0;34m,\u001b[0m \u001b[0mcv\u001b[0m\u001b[0;34m=\u001b[0m\u001b[0;36m10\u001b[0m\u001b[0;34m)\u001b[0m\u001b[0;34m\u001b[0m\u001b[0;34m\u001b[0m\u001b[0m\n\u001b[0m\u001b[1;32m      3\u001b[0m \u001b[0mdt_sc\u001b[0m \u001b[0;34m=\u001b[0m \u001b[0mclassification_report\u001b[0m\u001b[0;34m(\u001b[0m\u001b[0my\u001b[0m\u001b[0;34m,\u001b[0m \u001b[0mdt_pr\u001b[0m\u001b[0;34m)\u001b[0m\u001b[0;34m\u001b[0m\u001b[0;34m\u001b[0m\u001b[0m\n",
            "\u001b[0;32m/usr/local/lib/python3.10/dist-packages/sklearn/model_selection/_validation.py\u001b[0m in \u001b[0;36mcross_val_predict\u001b[0;34m(estimator, X, y, groups, cv, n_jobs, verbose, fit_params, pre_dispatch, method)\u001b[0m\n\u001b[1;32m    984\u001b[0m     \u001b[0;31m# independent, and that it is pickle-able.\u001b[0m\u001b[0;34m\u001b[0m\u001b[0;34m\u001b[0m\u001b[0m\n\u001b[1;32m    985\u001b[0m     \u001b[0mparallel\u001b[0m \u001b[0;34m=\u001b[0m \u001b[0mParallel\u001b[0m\u001b[0;34m(\u001b[0m\u001b[0mn_jobs\u001b[0m\u001b[0;34m=\u001b[0m\u001b[0mn_jobs\u001b[0m\u001b[0;34m,\u001b[0m \u001b[0mverbose\u001b[0m\u001b[0;34m=\u001b[0m\u001b[0mverbose\u001b[0m\u001b[0;34m,\u001b[0m \u001b[0mpre_dispatch\u001b[0m\u001b[0;34m=\u001b[0m\u001b[0mpre_dispatch\u001b[0m\u001b[0;34m)\u001b[0m\u001b[0;34m\u001b[0m\u001b[0;34m\u001b[0m\u001b[0m\n\u001b[0;32m--> 986\u001b[0;31m     predictions = parallel(\n\u001b[0m\u001b[1;32m    987\u001b[0m         delayed(_fit_and_predict)(\n\u001b[1;32m    988\u001b[0m             \u001b[0mclone\u001b[0m\u001b[0;34m(\u001b[0m\u001b[0mestimator\u001b[0m\u001b[0;34m)\u001b[0m\u001b[0;34m,\u001b[0m \u001b[0mX\u001b[0m\u001b[0;34m,\u001b[0m \u001b[0my\u001b[0m\u001b[0;34m,\u001b[0m \u001b[0mtrain\u001b[0m\u001b[0;34m,\u001b[0m \u001b[0mtest\u001b[0m\u001b[0;34m,\u001b[0m \u001b[0mverbose\u001b[0m\u001b[0;34m,\u001b[0m \u001b[0mfit_params\u001b[0m\u001b[0;34m,\u001b[0m \u001b[0mmethod\u001b[0m\u001b[0;34m\u001b[0m\u001b[0;34m\u001b[0m\u001b[0m\n",
            "\u001b[0;32m/usr/local/lib/python3.10/dist-packages/sklearn/utils/parallel.py\u001b[0m in \u001b[0;36m__call__\u001b[0;34m(self, iterable)\u001b[0m\n\u001b[1;32m     61\u001b[0m             \u001b[0;32mfor\u001b[0m \u001b[0mdelayed_func\u001b[0m\u001b[0;34m,\u001b[0m \u001b[0margs\u001b[0m\u001b[0;34m,\u001b[0m \u001b[0mkwargs\u001b[0m \u001b[0;32min\u001b[0m \u001b[0miterable\u001b[0m\u001b[0;34m\u001b[0m\u001b[0;34m\u001b[0m\u001b[0m\n\u001b[1;32m     62\u001b[0m         )\n\u001b[0;32m---> 63\u001b[0;31m         \u001b[0;32mreturn\u001b[0m \u001b[0msuper\u001b[0m\u001b[0;34m(\u001b[0m\u001b[0;34m)\u001b[0m\u001b[0;34m.\u001b[0m\u001b[0m__call__\u001b[0m\u001b[0;34m(\u001b[0m\u001b[0miterable_with_config\u001b[0m\u001b[0;34m)\u001b[0m\u001b[0;34m\u001b[0m\u001b[0;34m\u001b[0m\u001b[0m\n\u001b[0m\u001b[1;32m     64\u001b[0m \u001b[0;34m\u001b[0m\u001b[0m\n\u001b[1;32m     65\u001b[0m \u001b[0;34m\u001b[0m\u001b[0m\n",
            "\u001b[0;32m/usr/local/lib/python3.10/dist-packages/joblib/parallel.py\u001b[0m in \u001b[0;36m__call__\u001b[0;34m(self, iterable)\u001b[0m\n\u001b[1;32m   1853\u001b[0m             \u001b[0moutput\u001b[0m \u001b[0;34m=\u001b[0m \u001b[0mself\u001b[0m\u001b[0;34m.\u001b[0m\u001b[0m_get_sequential_output\u001b[0m\u001b[0;34m(\u001b[0m\u001b[0miterable\u001b[0m\u001b[0;34m)\u001b[0m\u001b[0;34m\u001b[0m\u001b[0;34m\u001b[0m\u001b[0m\n\u001b[1;32m   1854\u001b[0m             \u001b[0mnext\u001b[0m\u001b[0;34m(\u001b[0m\u001b[0moutput\u001b[0m\u001b[0;34m)\u001b[0m\u001b[0;34m\u001b[0m\u001b[0;34m\u001b[0m\u001b[0m\n\u001b[0;32m-> 1855\u001b[0;31m             \u001b[0;32mreturn\u001b[0m \u001b[0moutput\u001b[0m \u001b[0;32mif\u001b[0m \u001b[0mself\u001b[0m\u001b[0;34m.\u001b[0m\u001b[0mreturn_generator\u001b[0m \u001b[0;32melse\u001b[0m \u001b[0mlist\u001b[0m\u001b[0;34m(\u001b[0m\u001b[0moutput\u001b[0m\u001b[0;34m)\u001b[0m\u001b[0;34m\u001b[0m\u001b[0;34m\u001b[0m\u001b[0m\n\u001b[0m\u001b[1;32m   1856\u001b[0m \u001b[0;34m\u001b[0m\u001b[0m\n\u001b[1;32m   1857\u001b[0m         \u001b[0;31m# Let's create an ID that uniquely identifies the current call. If the\u001b[0m\u001b[0;34m\u001b[0m\u001b[0;34m\u001b[0m\u001b[0m\n",
            "\u001b[0;32m/usr/local/lib/python3.10/dist-packages/joblib/parallel.py\u001b[0m in \u001b[0;36m_get_sequential_output\u001b[0;34m(self, iterable)\u001b[0m\n\u001b[1;32m   1779\u001b[0m \u001b[0;34m\u001b[0m\u001b[0m\n\u001b[1;32m   1780\u001b[0m             \u001b[0;31m# Sequentially call the tasks and yield the results.\u001b[0m\u001b[0;34m\u001b[0m\u001b[0;34m\u001b[0m\u001b[0m\n\u001b[0;32m-> 1781\u001b[0;31m             \u001b[0;32mfor\u001b[0m \u001b[0mfunc\u001b[0m\u001b[0;34m,\u001b[0m \u001b[0margs\u001b[0m\u001b[0;34m,\u001b[0m \u001b[0mkwargs\u001b[0m \u001b[0;32min\u001b[0m \u001b[0miterable\u001b[0m\u001b[0;34m:\u001b[0m\u001b[0;34m\u001b[0m\u001b[0;34m\u001b[0m\u001b[0m\n\u001b[0m\u001b[1;32m   1782\u001b[0m                 \u001b[0mself\u001b[0m\u001b[0;34m.\u001b[0m\u001b[0mn_dispatched_batches\u001b[0m \u001b[0;34m+=\u001b[0m \u001b[0;36m1\u001b[0m\u001b[0;34m\u001b[0m\u001b[0;34m\u001b[0m\u001b[0m\n\u001b[1;32m   1783\u001b[0m                 \u001b[0mself\u001b[0m\u001b[0;34m.\u001b[0m\u001b[0mn_dispatched_tasks\u001b[0m \u001b[0;34m+=\u001b[0m \u001b[0;36m1\u001b[0m\u001b[0;34m\u001b[0m\u001b[0;34m\u001b[0m\u001b[0m\n",
            "\u001b[0;32m/usr/local/lib/python3.10/dist-packages/sklearn/utils/parallel.py\u001b[0m in \u001b[0;36m<genexpr>\u001b[0;34m(.0)\u001b[0m\n\u001b[1;32m     57\u001b[0m         \u001b[0;31m# pre_dispatch and n_jobs.\u001b[0m\u001b[0;34m\u001b[0m\u001b[0;34m\u001b[0m\u001b[0m\n\u001b[1;32m     58\u001b[0m         \u001b[0mconfig\u001b[0m \u001b[0;34m=\u001b[0m \u001b[0mget_config\u001b[0m\u001b[0;34m(\u001b[0m\u001b[0;34m)\u001b[0m\u001b[0;34m\u001b[0m\u001b[0;34m\u001b[0m\u001b[0m\n\u001b[0;32m---> 59\u001b[0;31m         iterable_with_config = (\n\u001b[0m\u001b[1;32m     60\u001b[0m             \u001b[0;34m(\u001b[0m\u001b[0m_with_config\u001b[0m\u001b[0;34m(\u001b[0m\u001b[0mdelayed_func\u001b[0m\u001b[0;34m,\u001b[0m \u001b[0mconfig\u001b[0m\u001b[0;34m)\u001b[0m\u001b[0;34m,\u001b[0m \u001b[0margs\u001b[0m\u001b[0;34m,\u001b[0m \u001b[0mkwargs\u001b[0m\u001b[0;34m)\u001b[0m\u001b[0;34m\u001b[0m\u001b[0;34m\u001b[0m\u001b[0m\n\u001b[1;32m     61\u001b[0m             \u001b[0;32mfor\u001b[0m \u001b[0mdelayed_func\u001b[0m\u001b[0;34m,\u001b[0m \u001b[0margs\u001b[0m\u001b[0;34m,\u001b[0m \u001b[0mkwargs\u001b[0m \u001b[0;32min\u001b[0m \u001b[0miterable\u001b[0m\u001b[0;34m\u001b[0m\u001b[0;34m\u001b[0m\u001b[0m\n",
            "\u001b[0;32m/usr/local/lib/python3.10/dist-packages/sklearn/model_selection/_validation.py\u001b[0m in \u001b[0;36m<genexpr>\u001b[0;34m(.0)\u001b[0m\n\u001b[1;32m    986\u001b[0m     predictions = parallel(\n\u001b[1;32m    987\u001b[0m         delayed(_fit_and_predict)(\n\u001b[0;32m--> 988\u001b[0;31m             \u001b[0mclone\u001b[0m\u001b[0;34m(\u001b[0m\u001b[0mestimator\u001b[0m\u001b[0;34m)\u001b[0m\u001b[0;34m,\u001b[0m \u001b[0mX\u001b[0m\u001b[0;34m,\u001b[0m \u001b[0my\u001b[0m\u001b[0;34m,\u001b[0m \u001b[0mtrain\u001b[0m\u001b[0;34m,\u001b[0m \u001b[0mtest\u001b[0m\u001b[0;34m,\u001b[0m \u001b[0mverbose\u001b[0m\u001b[0;34m,\u001b[0m \u001b[0mfit_params\u001b[0m\u001b[0;34m,\u001b[0m \u001b[0mmethod\u001b[0m\u001b[0;34m\u001b[0m\u001b[0;34m\u001b[0m\u001b[0m\n\u001b[0m\u001b[1;32m    989\u001b[0m         )\n\u001b[1;32m    990\u001b[0m         \u001b[0;32mfor\u001b[0m \u001b[0mtrain\u001b[0m\u001b[0;34m,\u001b[0m \u001b[0mtest\u001b[0m \u001b[0;32min\u001b[0m \u001b[0msplits\u001b[0m\u001b[0;34m\u001b[0m\u001b[0;34m\u001b[0m\u001b[0m\n",
            "\u001b[0;32m/usr/local/lib/python3.10/dist-packages/sklearn/base.py\u001b[0m in \u001b[0;36mclone\u001b[0;34m(estimator, safe)\u001b[0m\n\u001b[1;32m     77\u001b[0m                 )\n\u001b[1;32m     78\u001b[0m             \u001b[0;32melse\u001b[0m\u001b[0;34m:\u001b[0m\u001b[0;34m\u001b[0m\u001b[0;34m\u001b[0m\u001b[0m\n\u001b[0;32m---> 79\u001b[0;31m                 raise TypeError(\n\u001b[0m\u001b[1;32m     80\u001b[0m                     \u001b[0;34m\"Cannot clone object '%s' (type %s): \"\u001b[0m\u001b[0;34m\u001b[0m\u001b[0;34m\u001b[0m\u001b[0m\n\u001b[1;32m     81\u001b[0m                     \u001b[0;34m\"it does not seem to be a scikit-learn \"\u001b[0m\u001b[0;34m\u001b[0m\u001b[0;34m\u001b[0m\u001b[0m\n",
            "\u001b[0;31mTypeError\u001b[0m: Cannot clone object '<14640x17885 sparse matrix of type '<class 'numpy.float64'>'\n\twith 156163 stored elements in Compressed Sparse Row format>' (type <class 'scipy.sparse._csr.csr_matrix'>): it does not seem to be a scikit-learn estimator as it does not implement a 'get_params' method."
          ]
        }
      ]
    }
  ]
}