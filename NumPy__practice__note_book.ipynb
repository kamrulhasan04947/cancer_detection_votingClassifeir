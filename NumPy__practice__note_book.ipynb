{
  "nbformat": 4,
  "nbformat_minor": 0,
  "metadata": {
    "colab": {
      "provenance": [],
      "include_colab_link": true
    },
    "kernelspec": {
      "name": "python3",
      "display_name": "Python 3"
    },
    "language_info": {
      "name": "python"
    }
  },
  "cells": [
    {
      "cell_type": "markdown",
      "metadata": {
        "id": "view-in-github",
        "colab_type": "text"
      },
      "source": [
        "<a href=\"https://colab.research.google.com/github/kamrulhasan04947/cancer_detection_votingClassifeir/blob/main/NumPy__practice__note_book.ipynb\" target=\"_parent\"><img src=\"https://colab.research.google.com/assets/colab-badge.svg\" alt=\"Open In Colab\"/></a>"
      ]
    },
    {
      "cell_type": "markdown",
      "source": [
        "**Introduction To NumPy:**\n",
        "\n",
        "1.   What is numpy?\n",
        "2.   What is numpy array?\n",
        "3.   python list vs numpy array?\n",
        "4.   instalation and importing\n",
        "\n",
        "**What is numpy:**\n",
        "\n",
        "*   'numpy' is the fundamental package for scientific computing\n",
        "*   It is a Python library that provides 1,2 and multidimensional array , objects and various derived objects\n",
        "\n",
        "**What is numpy array:**\n",
        "\n",
        "An array is a grid of values and it containes  in a formation  about the row data. How to locet an element and how to interpret an object\n",
        "\n",
        "\n",
        "\n"
      ],
      "metadata": {
        "id": "5QqljPOhLwA3"
      }
    },
    {
      "cell_type": "markdown",
      "source": [
        "**numpy array  Vs python list**\n",
        "\n",
        "\n",
        "*   Consume less memory\n",
        "*   First and compared to the python list\n",
        "*   Convenion to use\n",
        "\n",
        "\n",
        "**instalation of numpy**\n",
        "\n",
        "command: pip istall numpy\n",
        "\n"
      ],
      "metadata": {
        "id": "rpldEEWPOfty"
      }
    },
    {
      "cell_type": "code",
      "source": [
        "#importing numpy\n",
        "import numpy as np"
      ],
      "metadata": {
        "id": "1M60gyiKQR-Q"
      },
      "execution_count": null,
      "outputs": []
    },
    {
      "cell_type": "code",
      "source": [
        "#printing numpy array\n",
        "np_arr = np.array([1, 2, 3])\n",
        "print(np_arr)\n",
        "# its print value without separating comas\n",
        "print(type(np_arr))\n",
        "print(\"Can you show the defference with below list?\")"
      ],
      "metadata": {
        "colab": {
          "base_uri": "https://localhost:8080/"
        },
        "id": "W687QNhOQp5m",
        "outputId": "e9ca3065-87cc-416b-b6c3-af780dc780f4"
      },
      "execution_count": null,
      "outputs": [
        {
          "output_type": "stream",
          "name": "stdout",
          "text": [
            "[1 2 3]\n",
            "<class 'numpy.ndarray'>\n",
            "Can you show the defference with below list?\n"
          ]
        }
      ]
    },
    {
      "cell_type": "code",
      "source": [
        "#printing  python list\n",
        "list1 = [1,2,3]\n",
        "#its printing value with separting\n",
        "print(list1)\n",
        "print(type(list1))"
      ],
      "metadata": {
        "colab": {
          "base_uri": "https://localhost:8080/"
        },
        "id": "n9L7mbYGRZp8",
        "outputId": "5415b583-d026-4e9e-a192-c0ff8ddb2bc1"
      },
      "execution_count": null,
      "outputs": [
        {
          "output_type": "stream",
          "name": "stdout",
          "text": [
            "[1, 2, 3]\n",
            "<class 'list'>\n"
          ]
        }
      ]
    },
    {
      "cell_type": "markdown",
      "source": [
        "**Importance of numpy:**\n",
        "\n",
        "\n",
        "1.   A wid veriety of mathmetical operations on arrays\n",
        "2.   It supplies an enromous library of heigh label methmetical functions that oparatea of these arrays and metricx\n",
        "3. mathmetical. logical , shape , manipulation, shorting, selecting, I/o, discrite fourier transformations, linear algebra, basic statical operation, random selection and much more.\n",
        "\n"
      ],
      "metadata": {
        "id": "xQ4F158TT4LT"
      }
    },
    {
      "cell_type": "markdown",
      "source": [
        "**Difference betwween numpy array and python list:**\n",
        "\n",
        "\n",
        "\n",
        "**Data type storage:**\n",
        "\n",
        "python list : Generally we defined a list as       \n",
        "\n",
        "list = [1, 2, \"a\", \"Karim\", 6.5].\n",
        "\n",
        "In above case list is compitable with any type of data to store together.\n",
        "\n",
        "numpy array: we defined numpy aray as:\n",
        "\n",
        "np_arr = np.array([[1, 2, 3, 4], [\"Karim\" , \"rahim\", \"Rahman\"]])\n",
        "\n",
        "numpy array also contain string and numeric value.\n",
        "\n",
        "**Importing module:**\n",
        "\n",
        "python list:\n",
        "\n",
        "It is  by default comes with python . No need to impoting any module to use list in python.\n",
        "\n",
        "numpy array:\n",
        "\n",
        "We Know that numpy is a library of python. So it is not comes with python by default . Its need to be import numpy module to use numpy array in python.\n",
        "\n",
        "**Numerical operation:**\n",
        "\n",
        "python list:\n",
        "It is posible that list can do numerical operation such as adition ,substraction, multiplecation, divesion. But This operation has low letency, not more first run.Moreover it can't capitable to perform mathmetical operation with heigh efeciency.\n",
        "\n",
        "numpy array : It designed for perform a wid veriety of mathmetical operations on arrays.\n",
        "\n",
        "\n",
        "\n",
        "Modification:\n",
        "In python list there have many modifications tols.By using which you can modify data.\n",
        "\n",
        "In numpy arry there have low modification tols.\n",
        "\n",
        "\n",
        "\n",
        "**Consume memory:**\n",
        "\n",
        "\n",
        "python list consume a large memory to perform opertion.\n",
        "\n",
        "Numpy  array consume  less memory as compaired python list"
      ],
      "metadata": {
        "id": "XTSYiuj-HCcb"
      }
    },
    {
      "cell_type": "markdown",
      "source": [
        "**Faster as compared to each other:**\n",
        "\n",
        "As mantioned that we told numpy consume less memory . So it is true that numpy is faster than python list.\n"
      ],
      "metadata": {
        "id": "Vb-XP7y5zhrl"
      }
    },
    {
      "cell_type": "markdown",
      "source": [
        "**Conveniently Use:**\n",
        "\n",
        "\n",
        "It conveiently use in data processing, image processing and perform more mathmetical operation. numpy array is use to define metrix and it's calculations because is simplecity, redablity and performance."
      ],
      "metadata": {
        "id": "OVBcnuit0xD1"
      }
    },
    {
      "cell_type": "markdown",
      "source": [
        "# **Check Which one is Work faster numpy array or python list:**"
      ],
      "metadata": {
        "id": "hqRaNdO51tbW"
      }
    },
    {
      "cell_type": "code",
      "source": [
        "#check How mouch take time to perform list operation\n",
        "%timeit [j**4 for j in range(1, 9)]"
      ],
      "metadata": {
        "colab": {
          "base_uri": "https://localhost:8080/"
        },
        "id": "fpI5NWVy2uU2",
        "outputId": "72200eaf-cb92-447b-ffbe-1239421ba965"
      },
      "execution_count": null,
      "outputs": [
        {
          "output_type": "stream",
          "name": "stdout",
          "text": [
            "3.7 µs ± 889 ns per loop (mean ± std. dev. of 7 runs, 100000 loops each)\n"
          ]
        }
      ]
    },
    {
      "cell_type": "code",
      "source": [
        "#check how moch take time to prform array operation\n",
        "import numpy as np\n",
        "%timeit np.arange(1, 9)**4"
      ],
      "metadata": {
        "colab": {
          "base_uri": "https://localhost:8080/"
        },
        "id": "B_9MCgdP4usC",
        "outputId": "50d817d7-6bf0-4926-f55a-a3e849487fb4"
      },
      "execution_count": null,
      "outputs": [
        {
          "output_type": "stream",
          "name": "stdout",
          "text": [
            "2.4 µs ± 92 ns per loop (mean ± std. dev. of 7 runs, 100000 loops each)\n"
          ]
        }
      ]
    },
    {
      "cell_type": "markdown",
      "source": [
        "# **> To create numpy array we use numpy.array. you can create alies for numpy as np.**\n",
        "  \n",
        "\n"
      ],
      "metadata": {
        "id": "dXYGCJus6bZw"
      }
    },
    {
      "cell_type": "code",
      "source": [
        "#Creating numpy array\n",
        "\n",
        "import numpy as np # where numpy is the python module\n",
        "\n",
        "arra1 = np.array([1, 2, 3, 4, 5, 6]) # array is a built in function of numpy which take an argument as a list\n",
        "arra1 # showing created array\n"
      ],
      "metadata": {
        "colab": {
          "base_uri": "https://localhost:8080/"
        },
        "id": "_ecx7hcs69aW",
        "outputId": "9d146762-5720-4fee-a10a-5150357c1c5e"
      },
      "execution_count": null,
      "outputs": [
        {
          "output_type": "execute_result",
          "data": {
            "text/plain": [
              "array([1, 2, 3, 4, 5, 6])"
            ]
          },
          "metadata": {},
          "execution_count": 11
        }
      ]
    },
    {
      "cell_type": "code",
      "source": [
        "print(arra1)# printing array\n",
        "print(type(arra1))#show type of array"
      ],
      "metadata": {
        "colab": {
          "base_uri": "https://localhost:8080/"
        },
        "id": "p1jWoz8n81aB",
        "outputId": "dcc0828a-a57e-4306-ab11-7aa724aca46b"
      },
      "execution_count": null,
      "outputs": [
        {
          "output_type": "stream",
          "name": "stdout",
          "text": [
            "[1 2 3 4 5 6]\n",
            "<class 'numpy.ndarray'>\n"
          ]
        }
      ]
    },
    {
      "cell_type": "markdown",
      "source": [
        "**Creating Array by taking array data from user**"
      ],
      "metadata": {
        "id": "On14Yp3--BQJ"
      }
    },
    {
      "cell_type": "code",
      "source": [
        "inp_list = []\n",
        "\n",
        "for i in range(int(input(\"enter range\"))):\n",
        "  data = int(input(\"enter data\"))\n",
        "  inp_list.append(data)\n",
        "\n",
        "created_arr = np.array(inp_list)\n",
        "\n",
        "created_arr"
      ],
      "metadata": {
        "colab": {
          "base_uri": "https://localhost:8080/"
        },
        "id": "XmYNkN-O9_qK",
        "outputId": "31af5f73-6346-435a-ecec-bb8c0cedd654"
      },
      "execution_count": null,
      "outputs": [
        {
          "name": "stdout",
          "output_type": "stream",
          "text": [
            "enter range5\n",
            "enter data20\n",
            "enter data30\n",
            "enter data8\n",
            "enter data4\n",
            "enter data8\n"
          ]
        },
        {
          "output_type": "execute_result",
          "data": {
            "text/plain": [
              "array([20, 30,  8,  4,  8])"
            ]
          },
          "metadata": {},
          "execution_count": 14
        }
      ]
    },
    {
      "cell_type": "markdown",
      "source": [
        "# **Dimansions of arrays**\n",
        "\n",
        "\n",
        "\n",
        "\n",
        "\n",
        "**> 1-D array**\n",
        "\n",
        "\n",
        "**> 2-D array**\n",
        "\n",
        "\n",
        "\n",
        "**> 3-D array**\n",
        "\n",
        "**> Heigher Dimension array**\n",
        "\n",
        "\n",
        "\n",
        "\n",
        "\n",
        "\n",
        "\n"
      ],
      "metadata": {
        "id": "oOwe0AzB_3Rs"
      }
    },
    {
      "cell_type": "code",
      "source": [
        "#1-D array\n",
        "arr_1d = np.array([2, 5, 6, 8, 5])\n",
        "print(arr_1d)\n",
        "\n",
        "print(f\"{arr_1d.ndim} dimension\") # check how many dimensions in an arrray"
      ],
      "metadata": {
        "colab": {
          "base_uri": "https://localhost:8080/"
        },
        "id": "QA_vCOD-BsNM",
        "outputId": "da1887b0-1186-46cb-e621-159cf9e9175c"
      },
      "execution_count": null,
      "outputs": [
        {
          "output_type": "stream",
          "name": "stdout",
          "text": [
            "[2 5 6 8 5]\n",
            "1 dimension\n"
          ]
        }
      ]
    },
    {
      "cell_type": "code",
      "source": [
        "#2-D array\n",
        "\n",
        "arr_2d = np.array([[50, 60, 30, 10], [20, 30, 40, 4]])\n",
        "print(arr_2d)\n",
        "\n",
        "print(f\"{arr_2d.ndim} dimension\") # check how many dimensions in an arrray"
      ],
      "metadata": {
        "colab": {
          "base_uri": "https://localhost:8080/"
        },
        "id": "MDbwGM4jCyh8",
        "outputId": "8ac93b93-875e-46a4-c219-ced35d898dec"
      },
      "execution_count": null,
      "outputs": [
        {
          "output_type": "stream",
          "name": "stdout",
          "text": [
            "[[50 60 30 10]\n",
            " [20 30 40  4]]\n",
            "2 dimension\n"
          ]
        }
      ]
    },
    {
      "cell_type": "code",
      "source": [
        "#2-D array\n",
        "\n",
        "arr_2d = np.array([[50, 60, 30, 10], [20, 30, 40]]) # if you don't pass same number of element on list it's occure an error\n",
        "print(arr_2d)\n",
        "\n",
        "print(f\"{arr_2d.ndim} dimension\") # check how many dimensions in an arrray"
      ],
      "metadata": {
        "colab": {
          "base_uri": "https://localhost:8080/"
        },
        "id": "PNkva4S8D1G2",
        "outputId": "cfe7f634-e469-49f1-eb4b-aad513a06e63"
      },
      "execution_count": null,
      "outputs": [
        {
          "output_type": "stream",
          "name": "stdout",
          "text": [
            "[list([50, 60, 30, 10]) list([20, 30, 40])]\n",
            "1 dimension\n"
          ]
        },
        {
          "output_type": "stream",
          "name": "stderr",
          "text": [
            "<ipython-input-20-2b4a2baa948a>:3: VisibleDeprecationWarning: Creating an ndarray from ragged nested sequences (which is a list-or-tuple of lists-or-tuples-or ndarrays with different lengths or shapes) is deprecated. If you meant to do this, you must specify 'dtype=object' when creating the ndarray.\n",
            "  arr_2d = np.array([[50, 60, 30, 10], [20, 30, 40]]) # if you don't pass same number of element on list it's occure an error\n"
          ]
        }
      ]
    },
    {
      "cell_type": "code",
      "source": [
        "#2-D array\n",
        "\n",
        "arr_2d = np.array([[50, 60, 30, 10], [20, 30, 40, 4], [20, 30, 10, 5]])\n",
        "print(arr_2d)\n",
        "\n",
        "print(f\"{arr_2d.ndim} dimension\") # check how many dimensions in an arrray"
      ],
      "metadata": {
        "colab": {
          "base_uri": "https://localhost:8080/"
        },
        "id": "sHJYiXCXEpvN",
        "outputId": "c138d1d2-d184-41ff-e5c7-58035a4ce63a"
      },
      "execution_count": null,
      "outputs": [
        {
          "output_type": "stream",
          "name": "stdout",
          "text": [
            "[[50 60 30 10]\n",
            " [20 30 40  4]\n",
            " [20 30 10  5]]\n",
            "2 dimension\n"
          ]
        }
      ]
    },
    {
      "cell_type": "code",
      "source": [
        "#3-D array\n",
        "arr_3d = np.array([[[13, 20, 4], [23, 5, 6], [2, 8, 9]]])\n",
        "print(arr_3d)\n",
        "\n",
        "print(f\"{arr_3d.ndim} dimension\") # check how many dimensions in an arrray"
      ],
      "metadata": {
        "colab": {
          "base_uri": "https://localhost:8080/"
        },
        "id": "u9kcPzg8Fnzd",
        "outputId": "d597ffdd-100f-4edf-8530-7f8259c35558"
      },
      "execution_count": null,
      "outputs": [
        {
          "output_type": "stream",
          "name": "stdout",
          "text": [
            "[[[13 20  4]\n",
            "  [23  5  6]\n",
            "  [ 2  8  9]]]\n",
            "3 dimension\n"
          ]
        }
      ]
    },
    {
      "cell_type": "code",
      "source": [
        "#n-dimensional array\n",
        "\n",
        "arr_nd = np.array([ [1, 2], [2,5], [5,1] ], ndmin= 5)\n",
        "print(arr_nd)\n",
        "\n",
        "print(f\"{arr_nd.ndim} dimension\") # check how many dimensions in an arrray"
      ],
      "metadata": {
        "colab": {
          "base_uri": "https://localhost:8080/"
        },
        "id": "JVp7WZF_Lq_6",
        "outputId": "d6f84de9-6b55-43ec-a2c2-2079d94ea959"
      },
      "execution_count": null,
      "outputs": [
        {
          "output_type": "stream",
          "name": "stdout",
          "text": [
            "[[[[[1 2]\n",
            "    [2 5]\n",
            "    [5 1]]]]]\n",
            "5 dimension\n"
          ]
        }
      ]
    },
    {
      "cell_type": "markdown",
      "source": [
        "## **How to create numpy array using numpy function**"
      ],
      "metadata": {
        "id": "9S7pbUsITWvE"
      }
    },
    {
      "cell_type": "code",
      "source": [
        "# Array fields with 0's\n",
        "arr_zeros = np.zeros(4)\n",
        "print(arr_zeros)"
      ],
      "metadata": {
        "colab": {
          "base_uri": "https://localhost:8080/"
        },
        "id": "g1cZPwlGS-SM",
        "outputId": "ae121f98-2bf7-4afd-8844-09bfa2948da4"
      },
      "execution_count": null,
      "outputs": [
        {
          "output_type": "stream",
          "name": "stdout",
          "text": [
            "[0. 0. 0. 0.]\n"
          ]
        }
      ]
    },
    {
      "cell_type": "code",
      "source": [
        "#3x4 metrix by 0's\n",
        "\n",
        "arr_zeros1 = np.zeros((3, 4))\n",
        "print(arr_zeros1)"
      ],
      "metadata": {
        "colab": {
          "base_uri": "https://localhost:8080/"
        },
        "id": "zLjiuLuWUT4d",
        "outputId": "29d86453-daec-4740-e303-6815b6adb1ae"
      },
      "execution_count": null,
      "outputs": [
        {
          "output_type": "stream",
          "name": "stdout",
          "text": [
            "[[0. 0. 0. 0.]\n",
            " [0. 0. 0. 0.]\n",
            " [0. 0. 0. 0.]]\n"
          ]
        }
      ]
    },
    {
      "cell_type": "code",
      "source": [
        "#Array Field with 1's\n",
        "\n",
        "arr_ones = np.ones(5)\n",
        "print(arr_ones)"
      ],
      "metadata": {
        "colab": {
          "base_uri": "https://localhost:8080/"
        },
        "id": "47Trpp_gU41W",
        "outputId": "7a8a2765-6fbb-4f0b-f8a6-c44f7b22ea27"
      },
      "execution_count": null,
      "outputs": [
        {
          "output_type": "stream",
          "name": "stdout",
          "text": [
            "[1. 1. 1. 1. 1.]\n"
          ]
        }
      ]
    },
    {
      "cell_type": "code",
      "source": [
        "#3x4 metrix by 1's\n",
        "\n",
        "arr_ones1 = np.ones((3,4))\n",
        "\n",
        "print(arr_ones1)"
      ],
      "metadata": {
        "colab": {
          "base_uri": "https://localhost:8080/"
        },
        "id": "qKn-xbYRVXNX",
        "outputId": "32327943-23b7-4de1-b59d-7a1075c972a5"
      },
      "execution_count": null,
      "outputs": [
        {
          "output_type": "stream",
          "name": "stdout",
          "text": [
            "[[1. 1. 1. 1.]\n",
            " [1. 1. 1. 1.]\n",
            " [1. 1. 1. 1.]]\n"
          ]
        }
      ]
    },
    {
      "cell_type": "code",
      "source": [
        "#empty array\n",
        "\n",
        "array_empty = np.empty(5)\n",
        "print(array_empty)"
      ],
      "metadata": {
        "colab": {
          "base_uri": "https://localhost:8080/"
        },
        "id": "Ttg9R9_UWF8W",
        "outputId": "6c22cf25-f11e-48bc-a546-5ea3d4f3fc1a"
      },
      "execution_count": null,
      "outputs": [
        {
          "output_type": "stream",
          "name": "stdout",
          "text": [
            "[1. 1. 1. 1. 1.]\n"
          ]
        }
      ]
    },
    {
      "cell_type": "code",
      "source": [
        "#creating array from range\n",
        "\n",
        "arr_range = np.arange(1,8)\n",
        "print(arr_range)"
      ],
      "metadata": {
        "colab": {
          "base_uri": "https://localhost:8080/"
        },
        "id": "qyzKVFLZXWym",
        "outputId": "db09ef95-8b69-4daf-a690-2d9fbce82919"
      },
      "execution_count": null,
      "outputs": [
        {
          "output_type": "stream",
          "name": "stdout",
          "text": [
            "[1 2 3 4 5 6 7]\n"
          ]
        }
      ]
    },
    {
      "cell_type": "code",
      "source": [
        "#creata an array element which digonal elemen was files with 1's\n",
        "# also print identity metrix\n",
        "\n",
        "arr_identity = np.eye(4) # argument 4 in eye() is size of array . 4 means 4x4 metrix\n",
        "print(arr_identity)"
      ],
      "metadata": {
        "colab": {
          "base_uri": "https://localhost:8080/"
        },
        "id": "EiDXoXfzX6X3",
        "outputId": "9696a77e-910b-4d93-e847-696e64c0c2ae"
      },
      "execution_count": null,
      "outputs": [
        {
          "output_type": "stream",
          "name": "stdout",
          "text": [
            "[[1. 0. 0. 0.]\n",
            " [0. 1. 0. 0.]\n",
            " [0. 0. 1. 0.]\n",
            " [0. 0. 0. 1.]]\n"
          ]
        }
      ]
    },
    {
      "cell_type": "code",
      "source": [
        "# print 3x5 metrix files wits 0's , 1's\n",
        "\n",
        "arr_3x5 = np.eye(3, 5) # dont use tuple as argument here.\n",
        "print(arr_3x5)"
      ],
      "metadata": {
        "colab": {
          "base_uri": "https://localhost:8080/"
        },
        "id": "dpjhmbVkZi5i",
        "outputId": "57ef0b2f-5cd7-401d-ab37-b96af0dcfc4a"
      },
      "execution_count": null,
      "outputs": [
        {
          "output_type": "stream",
          "name": "stdout",
          "text": [
            "[[1. 0. 0. 0. 0.]\n",
            " [0. 1. 0. 0. 0.]\n",
            " [0. 0. 1. 0. 0.]]\n"
          ]
        }
      ]
    },
    {
      "cell_type": "code",
      "source": [
        "# creating array using linspase function\n",
        "\n",
        "arr_linspase = np.linspace(0, 20, num=10, endpoint=True, retstep=True)\n",
        "print(arr_linspase)"
      ],
      "metadata": {
        "colab": {
          "base_uri": "https://localhost:8080/"
        },
        "id": "Ql4yvHgMcLhQ",
        "outputId": "49121aac-0588-4dd9-8969-c421a98f113a"
      },
      "execution_count": null,
      "outputs": [
        {
          "output_type": "stream",
          "name": "stdout",
          "text": [
            "(array([ 0.        ,  2.22222222,  4.44444444,  6.66666667,  8.88888889,\n",
            "       11.11111111, 13.33333333, 15.55555556, 17.77777778, 20.        ]), 2.2222222222222223)\n"
          ]
        }
      ]
    },
    {
      "cell_type": "code",
      "source": [
        "# example use case of linspace funtion\n",
        "\n",
        "import matplotlib.pyplot as plt\n",
        "n = 8\n",
        "y= np.zeros(n)\n",
        "x1 = np.linspace(0, 10, n, endpoint=True)\n",
        "x2 = np.linspace(0, 10, n, endpoint= False)\n",
        "plt.plot(x1, y, 'o')\n",
        "plt.plot(x2, y + 0.58, 'o')\n",
        "plt.ylim([-0.5, 1])\n",
        "plt.show()"
      ],
      "metadata": {
        "colab": {
          "base_uri": "https://localhost:8080/",
          "height": 435
        },
        "id": "ASXHoxOKdNqi",
        "outputId": "b252cc30-7443-452d-8816-ab5d647071b0"
      },
      "execution_count": null,
      "outputs": [
        {
          "output_type": "display_data",
          "data": {
            "text/plain": [
              "<Figure size 640x480 with 1 Axes>"
            ],
            "image/png": "[encoded data removed]"
          },
          "metadata": {}
        }
      ]
    },
    {
      "cell_type": "markdown",
      "source": [
        "# **Create numpy array with random numbers**"
      ],
      "metadata": {
        "id": "70W4MxgegdZz"
      }
    },
    {
      "cell_type": "markdown",
      "source": [
        "**Numpy random module functions that you needs again and again:**\n",
        "\n",
        "**rand()** : The function from numpy that generat rndom value between 0 and 1.\n",
        "\n",
        "**randn()** : The function is to generate random value close to zero. This may return positive and negative numbers as well.\n",
        "\n",
        "**ranf()** : The function for doing random samplilng in numpy.It's returns an array of specified shape amd fills with random floats in the half-open interval like as  **[0.0, 1.0]** .\n",
        "\n",
        "**randint() :** This function is use to genrate random number from a given range.\n",
        "\n",
        "\n"
      ],
      "metadata": {
        "id": "kMl1TAqvgyzD"
      }
    },
    {
      "cell_type": "code",
      "source": [
        "#Example of rand() function\n",
        "import numpy.random as npr\n",
        "random_num  = npr.rand(4)\n",
        "\n",
        "#print an array which contains element between 0 to 1\n",
        "print(f\"Present output: {random_num}\")"
      ],
      "metadata": {
        "colab": {
          "base_uri": "https://localhost:8080/"
        },
        "id": "jqCHq3ltgt2M",
        "outputId": "5059f992-5fee-4b72-b31f-b1ed4f62fb8f"
      },
      "execution_count": null,
      "outputs": [
        {
          "output_type": "stream",
          "name": "stdout",
          "text": [
            "Present output: [0.06416848 0.118997   0.72341283 0.32838505]\n"
          ]
        }
      ]
    },
    {
      "cell_type": "code",
      "source": [
        "# previous out put :[0.37767828 0.74846314 0.6611004  0.45602172] # please see the differance between previous and present output"
      ],
      "metadata": {
        "id": "qkdNPPmCmUUk"
      },
      "execution_count": null,
      "outputs": []
    },
    {
      "cell_type": "code",
      "source": [
        "#N- dimensional array with numpy.random\n",
        "\n",
        "nd_array = npr.rand(2, 3)\n",
        "print(nd_array)"
      ],
      "metadata": {
        "colab": {
          "base_uri": "https://localhost:8080/"
        },
        "id": "anQKI8i2odOV",
        "outputId": "0446277e-565f-4114-97e7-daa66fcf60bf"
      },
      "execution_count": null,
      "outputs": [
        {
          "output_type": "stream",
          "name": "stdout",
          "text": [
            "[[0.89738629 0.63044486 0.38481435]\n",
            " [0.23573455 0.19722395 0.77780656]]\n"
          ]
        }
      ]
    },
    {
      "cell_type": "code",
      "source": [
        "# Example of randn() function\n",
        "\n",
        "find_close_to_zeros = npr.randn(5)\n",
        "\n",
        "print(find_close_to_zeros)"
      ],
      "metadata": {
        "colab": {
          "base_uri": "https://localhost:8080/"
        },
        "id": "PJRqMzvDpBHG",
        "outputId": "9177f616-bf49-4f47-9090-2c0b74124f65"
      },
      "execution_count": null,
      "outputs": [
        {
          "output_type": "stream",
          "name": "stdout",
          "text": [
            "[ 1.24518067 -0.35454285  0.7605374   0.17081169 -1.02708878]\n"
          ]
        }
      ]
    },
    {
      "cell_type": "code",
      "source": [
        "# Example of ranf() function\n",
        "\n",
        "find_rnf_0_to_1 = npr.ranf(4)\n",
        "print(find_rnf_0_to_1)"
      ],
      "metadata": {
        "colab": {
          "base_uri": "https://localhost:8080/"
        },
        "id": "I3Svh08SsRyB",
        "outputId": "015dfa16-9694-4d92-b701-cd0f5e24418e"
      },
      "execution_count": null,
      "outputs": [
        {
          "output_type": "stream",
          "name": "stdout",
          "text": [
            "[0.65518491 0.60923379 0.20414694 0.86180788]\n"
          ]
        }
      ]
    },
    {
      "cell_type": "code",
      "source": [
        "#example of randint() function\n",
        "\n",
        "random_int_num = npr.randint(5, 20, 10) # randint(minimum, maximum, total_number)\n",
        "\n",
        "print(random_int_num)"
      ],
      "metadata": {
        "colab": {
          "base_uri": "https://localhost:8080/"
        },
        "id": "l7lfG7JttegY",
        "outputId": "51f09d32-f5b0-4697-e49f-8008df406102"
      },
      "execution_count": null,
      "outputs": [
        {
          "output_type": "stream",
          "name": "stdout",
          "text": [
            "[15 11 12  5 12  8 14  6 10 14 12  5  8 16 17 16 18 18 18 12 19]\n"
          ]
        }
      ]
    },
    {
      "cell_type": "markdown",
      "source": [
        "# **Data types in numpy:**"
      ],
      "metadata": {
        "id": "yQr2nzrdzmrr"
      }
    },
    {
      "cell_type": "code",
      "source": [
        "#integer type\n",
        "var = np.array([[2,4,5], [3,5,7]])\n",
        "print(f\"({var})\\n Data type is: {var.dtype}\\n\")\n",
        "\n",
        "var3 = np.array([2,3,5,9,8])\n",
        "print(f\"({var3})\\n Data type is: {var3.dtype}\\n\")\n",
        "\n",
        "var4 = np.array([[[3, 4, 5, 7], [70, 30, 60, 50], [20, 50, 4, 6]]])\n",
        "print(f\"({var4})\\n Data type is: {var4.dtype}\\n\")\n",
        "\n",
        "#uniocode type\n",
        "var1 = np.array([[\"ali\", \"gali\", \"bali\"], [2, 3, 5]])\n",
        "print(f\"({var1})\\n  Data type is: {var1.dtype}\\n\")\n",
        "\n",
        "#float type\n",
        "var2 = np.array([1.5, 3.4, 4.6, 9.6])\n",
        "print(f\"({var2})\\n  Data type is: {var2.dtype}\\n\")\n",
        "\n",
        "#bool\n",
        "\n",
        "var5 = np.array([True, False, True, False, True])\n",
        "print(f\"({var5})\\n  Data type is: {var5.dtype}\\n\")\n",
        "\n",
        "\n",
        "#complex data type in array\n",
        "\n",
        "var6 = np.array([2+1j,3+4j,5+2j, 1+6j])\n",
        "print(f\"({var6})\\n  Data type is: {var6.dtype}\\n\")"
      ],
      "metadata": {
        "colab": {
          "base_uri": "https://localhost:8080/"
        },
        "id": "JKrWnU9rzvbt",
        "outputId": "b2532221-ce34-4b18-8d33-2c398935fb53"
      },
      "execution_count": null,
      "outputs": [
        {
          "output_type": "stream",
          "name": "stdout",
          "text": [
            "([[2 4 5]\n",
            " [3 5 7]])\n",
            " Data type is: int64\n",
            "\n",
            "([2 3 5 9 8])\n",
            " Data type is: int64\n",
            "\n",
            "([[[ 3  4  5  7]\n",
            "  [70 30 60 50]\n",
            "  [20 50  4  6]]])\n",
            " Data type is: int64\n",
            "\n",
            "([['ali' 'gali' 'bali']\n",
            " ['2' '3' '5']])\n",
            "  Data type is: <U21\n",
            "\n",
            "([1.5 3.4 4.6 9.6])\n",
            "  Data type is: float64\n",
            "\n",
            "([ True False  True False  True])\n",
            "  Data type is: bool\n",
            "\n",
            "([2.+1.j 3.+4.j 5.+2.j 1.+6.j])\n",
            "  Data type is: complex128\n",
            "\n"
          ]
        }
      ]
    },
    {
      "cell_type": "markdown",
      "source": [
        "# **Type conversion in numpy**"
      ],
      "metadata": {
        "id": "Fh0PtG5497lQ"
      }
    },
    {
      "cell_type": "code",
      "source": [
        "from numpy.core.multiarray import dtype\n",
        "data = np.array([[[3, 4, 5, 7], [70, 30, 60, 50], [20, 50, 4, 6]]], dtype=\"i\")\n",
        "print(f\"{data}\\n data type is: {data.dtype}\\n\")\n",
        "\n",
        "#converting data int64 to float64\n",
        "data1= np.array([[[3, 4, 5, 7], [70, 30, 60, 50], [20, 50, 4, 6]]], dtype= np.float64)\n",
        "print(f\"{data1}\\n data type is:  {data1.dtype}\\n\")\n",
        "\n",
        "#converting data int64 to string/unicode\n",
        "data2 = np.array([[[3, 4, 5, 7], [70, 30, 60, 50], [20, 50, 4, 6]]], dtype= np.unicode_)\n",
        "print(f\"{data2}\\n data type is:  {data2.dtype}\\n\")\n",
        "#converting data int64 to complex\n",
        "data3 = np.array([[[3, 4, 5, 7], [70, 30, 60, 50], [20, 50, 4, 6]]], dtype= np.complex64)\n",
        "print(f\"{data3}\\n data type is: {data3.dtype}\\n\")\n",
        "\n",
        "#converting data int64 to bool\n",
        "data4 = np.array([[[3, 4, 5, 7], [70, 30, 60, 50], [20, 50, 4, 6]]], dtype= np.bool_)\n",
        "print(f\"{data4}\\n data type is: {data4.dtype}\\n\")\n",
        "\n"
      ],
      "metadata": {
        "colab": {
          "base_uri": "https://localhost:8080/"
        },
        "id": "59utFcoA96UB",
        "outputId": "c018368e-8055-4c11-f18d-6b23523e490c"
      },
      "execution_count": null,
      "outputs": [
        {
          "output_type": "stream",
          "name": "stdout",
          "text": [
            "[[[ 3  4  5  7]\n",
            "  [70 30 60 50]\n",
            "  [20 50  4  6]]]\n",
            " data type is: int32\n",
            "\n",
            "[[[ 3.  4.  5.  7.]\n",
            "  [70. 30. 60. 50.]\n",
            "  [20. 50.  4.  6.]]]\n",
            " data type is:  float64\n",
            "\n",
            "[[['3' '4' '5' '7']\n",
            "  ['70' '30' '60' '50']\n",
            "  ['20' '50' '4' '6']]]\n",
            " data type is:  <U2\n",
            "\n",
            "[[[ 3.+0.j  4.+0.j  5.+0.j  7.+0.j]\n",
            "  [70.+0.j 30.+0.j 60.+0.j 50.+0.j]\n",
            "  [20.+0.j 50.+0.j  4.+0.j  6.+0.j]]]\n",
            " data type is: complex64\n",
            "\n",
            "[[[ True  True  True  True]\n",
            "  [ True  True  True  True]\n",
            "  [ True  True  True  True]]]\n",
            " data type is: bool\n",
            "\n"
          ]
        }
      ]
    },
    {
      "cell_type": "markdown",
      "source": [
        "# **Arithmetic in numpy**"
      ],
      "metadata": {
        "id": "QbAmH4R37iA_"
      }
    },
    {
      "cell_type": "markdown",
      "source": [],
      "metadata": {
        "id": "UAAxKhZp_LXF"
      }
    },
    {
      "cell_type": "code",
      "source": [
        "# Addition\n",
        "\n",
        "# defining and array 1d Aray\n",
        "import numpy as np\n",
        "\n",
        "arr1 = np.array([1, 2, 3 , 4, 5])\n",
        "\n",
        "# add 3 with each element of this array\n",
        "arr_sumation = arr1 + 3\n",
        "\n",
        "print(f\"Adding by 3 at {arr1} is : {arr_sumation}\")"
      ],
      "metadata": {
        "colab": {
          "base_uri": "https://localhost:8080/"
        },
        "id": "DEjKYj197sqe",
        "outputId": "1e26680f-e5a6-4c0d-8870-18c53f276c31"
      },
      "execution_count": null,
      "outputs": [
        {
          "output_type": "stream",
          "name": "stdout",
          "text": [
            "Adding by 3 at [1 2 3 4 5] is : [4 5 6 7 8]\n"
          ]
        }
      ]
    },
    {
      "cell_type": "code",
      "source": [],
      "metadata": {
        "id": "Ai9bqUvPFInX"
      },
      "execution_count": null,
      "outputs": []
    },
    {
      "cell_type": "code",
      "source": [
        "#Substraction\n",
        "import numpy as np\n",
        "\n",
        "arr2 = np.array([5,8,9,9,6])\n",
        "\n",
        "# substrac by 3  each element of this array\n",
        "arr_substraction = arr2 - 3\n",
        "\n",
        "print(f\"substracting by 3 at {arr2} is : {arr_substraction}\")\n"
      ],
      "metadata": {
        "colab": {
          "base_uri": "https://localhost:8080/"
        },
        "id": "e7dGTuyUA_XP",
        "outputId": "b8c4178a-68db-4617-a3ad-c24882e87084"
      },
      "execution_count": null,
      "outputs": [
        {
          "output_type": "stream",
          "name": "stdout",
          "text": [
            "substracting by 3 at [5 8 9 9 6] is : [2 5 6 6 3]\n"
          ]
        }
      ]
    },
    {
      "cell_type": "code",
      "source": [
        "#Example of 1 dimension array\n",
        "#Adding two arrays togather\n",
        "\n",
        "sumof_twoarray = arr1 + arr2\n",
        "print(f\"Additon of : {arr1} + {arr2} = {sumof_twoarray}\")\n",
        "\n",
        "#substracting one array from another\n",
        "substrac_twoarray = arr2 - arr1\n",
        "print(f\"Aubstraction of : {arr2} - {arr1} = {substrac_twoarray}\")"
      ],
      "metadata": {
        "colab": {
          "base_uri": "https://localhost:8080/"
        },
        "id": "CK46Gu-4Btb-",
        "outputId": "9775fb70-bbaf-46fa-a6e3-83fefe6dbae1"
      },
      "execution_count": null,
      "outputs": [
        {
          "output_type": "stream",
          "name": "stdout",
          "text": [
            "Additon of : [1 2 3 4 5] + [5 8 9 9 6] = [ 6 10 12 13 11]\n",
            "Aubstraction of : [5 8 9 9 6] - [1 2 3 4 5] = [4 6 6 5 1]\n"
          ]
        }
      ]
    },
    {
      "cell_type": "code",
      "source": [
        "# multilication\n",
        "\n",
        "# multiplied by 4.5\n",
        "\n",
        "multiplied_arr = arr1 * 4.5\n",
        "print(f\"{arr1} * 4.5 = {multiplied_arr}\")"
      ],
      "metadata": {
        "colab": {
          "base_uri": "https://localhost:8080/"
        },
        "id": "wz9LWokqE9lq",
        "outputId": "10b3a014-43c0-454a-fa34-c09f852c29a0"
      },
      "execution_count": null,
      "outputs": [
        {
          "output_type": "stream",
          "name": "stdout",
          "text": [
            "[1 2 3 4 5] * 4.5 = [ 4.5  9.  13.5 18.  22.5]\n"
          ]
        }
      ]
    },
    {
      "cell_type": "code",
      "source": [
        "#Exponent of an array element\n",
        "# **2 of an array element\n",
        "print(f\"{arr1} ** 2 = {arr1**2}\")"
      ],
      "metadata": {
        "colab": {
          "base_uri": "https://localhost:8080/"
        },
        "id": "-I_EfBLRGrHX",
        "outputId": "2e1b6022-7195-407a-caee-a0c3522f84b3"
      },
      "execution_count": null,
      "outputs": [
        {
          "output_type": "stream",
          "name": "stdout",
          "text": [
            "[1 2 3 4 5] ** 2 = [ 1  4  9 16 25]\n"
          ]
        }
      ]
    },
    {
      "cell_type": "code",
      "source": [
        "# division\n",
        "# In case of division note that any number/0 is occure Zero division Error\n",
        "\n",
        "division_arr = arr2 / 4\n",
        "\n",
        "print(f\"{arr2} / 4  = {division_arr}\")"
      ],
      "metadata": {
        "colab": {
          "base_uri": "https://localhost:8080/"
        },
        "id": "4ky1cwyOIATc",
        "outputId": "bd830b9a-7fb4-4101-b95c-74a5d46a9fa7"
      },
      "execution_count": null,
      "outputs": [
        {
          "output_type": "stream",
          "name": "stdout",
          "text": [
            "[5 8 9 9 6] / 4  = [1.25 2.   2.25 2.25 1.5 ]\n"
          ]
        }
      ]
    },
    {
      "cell_type": "code",
      "source": [
        "# modulas opperation\n",
        "\n",
        "reminderOf_arr1dev3 = arr1 % 3\n",
        "\n",
        "print(f\"{arr1}"
      ],
      "metadata": {
        "colab": {
          "base_uri": "https://localhost:8080/"
        },
        "id": "9UwMrCvoI86T",
        "outputId": "4f83e965-5f5d-4ea7-f83b-4862675d52c6"
      },
      "execution_count": null,
      "outputs": [
        {
          "output_type": "stream",
          "name": "stdout",
          "text": [
            "[1 2 3 4 5]\n"
          ]
        }
      ]
    }
  ]
}